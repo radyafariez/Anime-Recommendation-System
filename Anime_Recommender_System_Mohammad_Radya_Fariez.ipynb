{
 "cells": [
  {
   "cell_type": "markdown",
   "metadata": {
    "id": "Um3Fe7EqwC6X"
   },
   "source": [
    "# **RECOMMENDER SYSTEM - ANIME MOVIES & SERIES**"
   ]
  },
  {
   "cell_type": "markdown",
   "metadata": {
    "id": "O_zfS5dJF3Of"
   },
   "source": [
    "### **Deskripsi**: Membuat sistem rekomendasi konten movie & series anime menggunakan Content Based Filtering"
   ]
  },
  {
   "cell_type": "code",
   "execution_count": 2,
   "metadata": {},
   "outputs": [
    {
     "name": "stdout",
     "output_type": "stream",
     "text": [
      "Collecting opendatasets\n",
      "  Downloading opendatasets-0.1.22-py3-none-any.whl (15 kB)\n",
      "Collecting kaggle\n",
      "  Downloading kaggle-1.5.12.tar.gz (58 kB)\n",
      "     -------------------------------------- 59.0/59.0 kB 447.0 kB/s eta 0:00:00\n",
      "  Preparing metadata (setup.py): started\n",
      "  Preparing metadata (setup.py): finished with status 'done'\n",
      "Requirement already satisfied: click in c:\\users\\admin\\anaconda3\\lib\\site-packages (from opendatasets) (8.0.4)\n",
      "Requirement already satisfied: tqdm in c:\\users\\admin\\anaconda3\\lib\\site-packages (from opendatasets) (4.64.1)\n",
      "Requirement already satisfied: colorama in c:\\users\\admin\\anaconda3\\lib\\site-packages (from click->opendatasets) (0.4.5)\n",
      "Requirement already satisfied: six>=1.10 in c:\\users\\admin\\anaconda3\\lib\\site-packages (from kaggle->opendatasets) (1.16.0)\n",
      "Requirement already satisfied: certifi in c:\\users\\admin\\anaconda3\\lib\\site-packages (from kaggle->opendatasets) (2022.9.14)\n",
      "Requirement already satisfied: python-dateutil in c:\\users\\admin\\anaconda3\\lib\\site-packages (from kaggle->opendatasets) (2.8.2)\n",
      "Requirement already satisfied: requests in c:\\users\\admin\\anaconda3\\lib\\site-packages (from kaggle->opendatasets) (2.28.1)\n",
      "Requirement already satisfied: python-slugify in c:\\users\\admin\\anaconda3\\lib\\site-packages (from kaggle->opendatasets) (5.0.2)\n",
      "Requirement already satisfied: urllib3 in c:\\users\\admin\\anaconda3\\lib\\site-packages (from kaggle->opendatasets) (1.26.11)\n",
      "Requirement already satisfied: text-unidecode>=1.3 in c:\\users\\admin\\anaconda3\\lib\\site-packages (from python-slugify->kaggle->opendatasets) (1.3)\n",
      "Requirement already satisfied: charset-normalizer<3,>=2 in c:\\users\\admin\\anaconda3\\lib\\site-packages (from requests->kaggle->opendatasets) (2.0.4)\n",
      "Requirement already satisfied: idna<4,>=2.5 in c:\\users\\admin\\anaconda3\\lib\\site-packages (from requests->kaggle->opendatasets) (3.3)\n",
      "Building wheels for collected packages: kaggle\n",
      "  Building wheel for kaggle (setup.py): started\n",
      "  Building wheel for kaggle (setup.py): finished with status 'done'\n",
      "  Created wheel for kaggle: filename=kaggle-1.5.12-py3-none-any.whl size=73031 sha256=6d63a5e7f454deead1b5efa390f72364f88f97ed8087ff02c861be84b890909d\n",
      "  Stored in directory: c:\\users\\admin\\appdata\\local\\pip\\cache\\wheels\\ac\\b2\\c3\\fa4706d469b5879105991d1c8be9a3c2ef329ba9fe2ce5085e\n",
      "Successfully built kaggle\n",
      "Installing collected packages: kaggle, opendatasets\n",
      "Successfully installed kaggle-1.5.12 opendatasets-0.1.22\n",
      "Requirement already satisfied: pandas in c:\\users\\admin\\anaconda3\\lib\\site-packages (1.4.4)\n",
      "Requirement already satisfied: numpy>=1.18.5 in c:\\users\\admin\\anaconda3\\lib\\site-packages (from pandas) (1.21.5)\n",
      "Requirement already satisfied: pytz>=2020.1 in c:\\users\\admin\\anaconda3\\lib\\site-packages (from pandas) (2022.1)\n",
      "Requirement already satisfied: python-dateutil>=2.8.1 in c:\\users\\admin\\anaconda3\\lib\\site-packages (from pandas) (2.8.2)\n",
      "Requirement already satisfied: six>=1.5 in c:\\users\\admin\\anaconda3\\lib\\site-packages (from python-dateutil>=2.8.1->pandas) (1.16.0)\n"
     ]
    }
   ],
   "source": [
    "!pip install opendatasets\n",
    "!pip install pandas"
   ]
  },
  {
   "cell_type": "markdown",
   "metadata": {
    "id": "F5hExsk_wLyQ"
   },
   "source": [
    "**Import Library yang dibutuhkan**"
   ]
  },
  {
   "cell_type": "code",
   "execution_count": 6,
   "metadata": {
    "id": "7qbAlBPOw5Ao"
   },
   "outputs": [],
   "source": [
    "import pandas as pd\n",
    "import opendatasets as od\n",
    "import numpy as np\n",
    "import re\n",
    "import seaborn as sns\n",
    "import matplotlib.pyplot as plt\n",
    "%matplotlib inline\n",
    "from sklearn.feature_extraction.text import TfidfVectorizer\n",
    "from sklearn.metrics.pairwise import cosine_similarity"
   ]
  },
  {
   "cell_type": "markdown",
   "metadata": {
    "id": "F4gI1IRlwn3J"
   },
   "source": [
    "**Install Dataset melalui Kaggle Repositories**"
   ]
  },
  {
   "cell_type": "code",
   "execution_count": 7,
   "metadata": {
    "colab": {
     "base_uri": "https://localhost:8080/"
    },
    "id": "-Mykwi8jwUL0",
    "outputId": "f0f628fb-868d-480f-b8f3-98a6c616131d"
   },
   "outputs": [
    {
     "name": "stdout",
     "output_type": "stream",
     "text": [
      "Downloading anime-recommendations-database.zip to .\\anime-recommendations-database\n"
     ]
    },
    {
     "name": "stderr",
     "output_type": "stream",
     "text": [
      "100%|██████████| 25.0M/25.0M [00:11<00:00, 2.35MB/s]\n"
     ]
    },
    {
     "name": "stdout",
     "output_type": "stream",
     "text": [
      "\n"
     ]
    }
   ],
   "source": [
    "#! pip install kaggle\n",
    "#! mkdir ~/.kaggle\n",
    "#! cp kaggle.json ~/.kaggle\n",
    "#! chmod 600 ~/.kaggle/kaggle.json\n",
    "#! kaggle datasets download -d CooperUnion/anime-recommendations-database\n",
    "od.download(\n",
    "    \"https://www.kaggle.com/datasets/CooperUnion/anime-recommendations-database\"\n",
    "    )"
   ]
  },
  {
   "cell_type": "markdown",
   "metadata": {
    "id": "Vd9sfcMpxD7B"
   },
   "source": [
    "Unzip dataset"
   ]
  },
  {
   "cell_type": "code",
   "execution_count": 10,
   "metadata": {
    "colab": {
     "base_uri": "https://localhost:8080/"
    },
    "id": "tBRRqErVwxQx",
    "outputId": "c7914b3b-449d-434c-b7cf-54ffd29de40a"
   },
   "outputs": [
    {
     "name": "stderr",
     "output_type": "stream",
     "text": [
      "'unzip' is not recognized as an internal or external command,\n",
      "operable program or batch file.\n"
     ]
    }
   ],
   "source": [
    "#! unzip anime-recommendations-database.zip"
   ]
  },
  {
   "cell_type": "markdown",
   "metadata": {
    "id": "_uPyH7m_xs4r"
   },
   "source": [
    "Mendefinisikan dataset CSV dan listing genre"
   ]
  },
  {
   "cell_type": "code",
   "execution_count": 12,
   "metadata": {
    "colab": {
     "base_uri": "https://localhost:8080/",
     "height": 144
    },
    "id": "irmNVpVYxfpy",
    "outputId": "ca533925-9f37-4314-9292-1c970d4dc0b6"
   },
   "outputs": [
    {
     "data": {
      "text/html": [
       "<div>\n",
       "<style scoped>\n",
       "    .dataframe tbody tr th:only-of-type {\n",
       "        vertical-align: middle;\n",
       "    }\n",
       "\n",
       "    .dataframe tbody tr th {\n",
       "        vertical-align: top;\n",
       "    }\n",
       "\n",
       "    .dataframe thead th {\n",
       "        text-align: right;\n",
       "    }\n",
       "</style>\n",
       "<table border=\"1\" class=\"dataframe\">\n",
       "  <thead>\n",
       "    <tr style=\"text-align: right;\">\n",
       "      <th></th>\n",
       "      <th>anime_id</th>\n",
       "      <th>name</th>\n",
       "      <th>genre</th>\n",
       "      <th>type</th>\n",
       "      <th>episodes</th>\n",
       "      <th>rating</th>\n",
       "      <th>members</th>\n",
       "    </tr>\n",
       "  </thead>\n",
       "  <tbody>\n",
       "    <tr>\n",
       "      <th>9517</th>\n",
       "      <td>25267</td>\n",
       "      <td>Megumi to Taiyou II: Kajuu Gummi Tweet Mystery...</td>\n",
       "      <td>Mystery</td>\n",
       "      <td>Special</td>\n",
       "      <td>1</td>\n",
       "      <td>4.94</td>\n",
       "      <td>154</td>\n",
       "    </tr>\n",
       "    <tr>\n",
       "      <th>6134</th>\n",
       "      <td>9846</td>\n",
       "      <td>Attraction</td>\n",
       "      <td>Mystery</td>\n",
       "      <td>ONA</td>\n",
       "      <td>1</td>\n",
       "      <td>6.24</td>\n",
       "      <td>1430</td>\n",
       "    </tr>\n",
       "    <tr>\n",
       "      <th>9801</th>\n",
       "      <td>27573</td>\n",
       "      <td>Obasuteyama</td>\n",
       "      <td>Drama</td>\n",
       "      <td>Movie</td>\n",
       "      <td>1</td>\n",
       "      <td>7.00</td>\n",
       "      <td>57</td>\n",
       "    </tr>\n",
       "  </tbody>\n",
       "</table>\n",
       "</div>"
      ],
      "text/plain": [
       "      anime_id                                               name    genre  \\\n",
       "9517     25267  Megumi to Taiyou II: Kajuu Gummi Tweet Mystery...  Mystery   \n",
       "6134      9846                                         Attraction  Mystery   \n",
       "9801     27573                                        Obasuteyama    Drama   \n",
       "\n",
       "         type episodes  rating  members  \n",
       "9517  Special        1    4.94      154  \n",
       "6134      ONA        1    6.24     1430  \n",
       "9801    Movie        1    7.00       57  "
      ]
     },
     "execution_count": 12,
     "metadata": {},
     "output_type": "execute_result"
    }
   ],
   "source": [
    "anime = pd.read_csv('anime.csv')\n",
    "\n",
    "values = ['Drama', 'Romance', 'Adventure', 'Action', 'SciFi', 'Fantasy', 'Comedy', 'Slice of Life', 'Sports', 'Horror', 'Supernatural', 'Mystery', 'Historical']\n",
    "animes = anime[anime.genre.isin(values) == True]\n",
    "animes.sample(3)\n"
   ]
  },
  {
   "cell_type": "code",
   "execution_count": 13,
   "metadata": {
    "colab": {
     "base_uri": "https://localhost:8080/",
     "height": 144
    },
    "id": "5rj_wHrS0qFN",
    "outputId": "4bc08bf7-78ca-430b-f3ea-cca24dc3b32d"
   },
   "outputs": [
    {
     "data": {
      "text/html": [
       "<div>\n",
       "<style scoped>\n",
       "    .dataframe tbody tr th:only-of-type {\n",
       "        vertical-align: middle;\n",
       "    }\n",
       "\n",
       "    .dataframe tbody tr th {\n",
       "        vertical-align: top;\n",
       "    }\n",
       "\n",
       "    .dataframe thead th {\n",
       "        text-align: right;\n",
       "    }\n",
       "</style>\n",
       "<table border=\"1\" class=\"dataframe\">\n",
       "  <thead>\n",
       "    <tr style=\"text-align: right;\">\n",
       "      <th></th>\n",
       "      <th>anime_id</th>\n",
       "      <th>name</th>\n",
       "      <th>genre</th>\n",
       "      <th>type</th>\n",
       "      <th>episodes</th>\n",
       "      <th>rating</th>\n",
       "      <th>members</th>\n",
       "    </tr>\n",
       "  </thead>\n",
       "  <tbody>\n",
       "    <tr>\n",
       "      <th>0</th>\n",
       "      <td>32281</td>\n",
       "      <td>Kimi no Na wa.</td>\n",
       "      <td>Drama, Romance, School, Supernatural</td>\n",
       "      <td>Movie</td>\n",
       "      <td>1</td>\n",
       "      <td>9.37</td>\n",
       "      <td>200630</td>\n",
       "    </tr>\n",
       "    <tr>\n",
       "      <th>1</th>\n",
       "      <td>5114</td>\n",
       "      <td>Fullmetal Alchemist: Brotherhood</td>\n",
       "      <td>Action, Adventure, Drama, Fantasy, Magic, Mili...</td>\n",
       "      <td>TV</td>\n",
       "      <td>64</td>\n",
       "      <td>9.26</td>\n",
       "      <td>793665</td>\n",
       "    </tr>\n",
       "    <tr>\n",
       "      <th>2</th>\n",
       "      <td>28977</td>\n",
       "      <td>Gintama°</td>\n",
       "      <td>Action, Comedy, Historical, Parody, Samurai, S...</td>\n",
       "      <td>TV</td>\n",
       "      <td>51</td>\n",
       "      <td>9.25</td>\n",
       "      <td>114262</td>\n",
       "    </tr>\n",
       "  </tbody>\n",
       "</table>\n",
       "</div>"
      ],
      "text/plain": [
       "   anime_id                              name  \\\n",
       "0     32281                    Kimi no Na wa.   \n",
       "1      5114  Fullmetal Alchemist: Brotherhood   \n",
       "2     28977                          Gintama°   \n",
       "\n",
       "                                               genre   type episodes  rating  \\\n",
       "0               Drama, Romance, School, Supernatural  Movie        1    9.37   \n",
       "1  Action, Adventure, Drama, Fantasy, Magic, Mili...     TV       64    9.26   \n",
       "2  Action, Comedy, Historical, Parody, Samurai, S...     TV       51    9.25   \n",
       "\n",
       "   members  \n",
       "0   200630  \n",
       "1   793665  \n",
       "2   114262  "
      ]
     },
     "execution_count": 13,
     "metadata": {},
     "output_type": "execute_result"
    }
   ],
   "source": [
    "anime.head(3)"
   ]
  },
  {
   "cell_type": "code",
   "execution_count": 15,
   "metadata": {
    "colab": {
     "base_uri": "https://localhost:8080/",
     "height": 144
    },
    "id": "3eX9F4KzXJ9G",
    "outputId": "7c2c4a31-da26-4368-d05b-d3bf3315c046"
   },
   "outputs": [
    {
     "data": {
      "text/html": [
       "<div>\n",
       "<style scoped>\n",
       "    .dataframe tbody tr th:only-of-type {\n",
       "        vertical-align: middle;\n",
       "    }\n",
       "\n",
       "    .dataframe tbody tr th {\n",
       "        vertical-align: top;\n",
       "    }\n",
       "\n",
       "    .dataframe thead th {\n",
       "        text-align: right;\n",
       "    }\n",
       "</style>\n",
       "<table border=\"1\" class=\"dataframe\">\n",
       "  <thead>\n",
       "    <tr style=\"text-align: right;\">\n",
       "      <th></th>\n",
       "      <th>anime_id</th>\n",
       "      <th>name</th>\n",
       "      <th>genre</th>\n",
       "      <th>type</th>\n",
       "      <th>episodes</th>\n",
       "      <th>rating</th>\n",
       "      <th>members</th>\n",
       "    </tr>\n",
       "  </thead>\n",
       "  <tbody>\n",
       "    <tr>\n",
       "      <th>244</th>\n",
       "      <td>5365</td>\n",
       "      <td>Tsumiki no Ie</td>\n",
       "      <td>Drama</td>\n",
       "      <td>Movie</td>\n",
       "      <td>1</td>\n",
       "      <td>8.27</td>\n",
       "      <td>45189</td>\n",
       "    </tr>\n",
       "    <tr>\n",
       "      <th>321</th>\n",
       "      <td>6211</td>\n",
       "      <td>Tokyo Magnitude 8.0</td>\n",
       "      <td>Drama</td>\n",
       "      <td>TV</td>\n",
       "      <td>11</td>\n",
       "      <td>8.19</td>\n",
       "      <td>121349</td>\n",
       "    </tr>\n",
       "    <tr>\n",
       "      <th>415</th>\n",
       "      <td>7711</td>\n",
       "      <td>Karigurashi no Arrietty</td>\n",
       "      <td>Fantasy</td>\n",
       "      <td>Movie</td>\n",
       "      <td>1</td>\n",
       "      <td>8.10</td>\n",
       "      <td>97910</td>\n",
       "    </tr>\n",
       "  </tbody>\n",
       "</table>\n",
       "</div>"
      ],
      "text/plain": [
       "     anime_id                     name    genre   type episodes  rating  \\\n",
       "244      5365            Tsumiki no Ie    Drama  Movie        1    8.27   \n",
       "321      6211      Tokyo Magnitude 8.0    Drama     TV       11    8.19   \n",
       "415      7711  Karigurashi no Arrietty  Fantasy  Movie        1    8.10   \n",
       "\n",
       "     members  \n",
       "244    45189  \n",
       "321   121349  \n",
       "415    97910  "
      ]
     },
     "execution_count": 15,
     "metadata": {},
     "output_type": "execute_result"
    }
   ],
   "source": [
    "animes.head(3)"
   ]
  },
  {
   "cell_type": "code",
   "execution_count": 14,
   "metadata": {
    "colab": {
     "base_uri": "https://localhost:8080/",
     "height": 144
    },
    "id": "EcmZL2Jt0UKk",
    "outputId": "fc7e8fe5-e104-40dc-8d85-cda15e5fb0f9"
   },
   "outputs": [
    {
     "data": {
      "text/html": [
       "<div>\n",
       "<style scoped>\n",
       "    .dataframe tbody tr th:only-of-type {\n",
       "        vertical-align: middle;\n",
       "    }\n",
       "\n",
       "    .dataframe tbody tr th {\n",
       "        vertical-align: top;\n",
       "    }\n",
       "\n",
       "    .dataframe thead th {\n",
       "        text-align: right;\n",
       "    }\n",
       "</style>\n",
       "<table border=\"1\" class=\"dataframe\">\n",
       "  <thead>\n",
       "    <tr style=\"text-align: right;\">\n",
       "      <th></th>\n",
       "      <th>user_id</th>\n",
       "      <th>anime_id</th>\n",
       "      <th>rating</th>\n",
       "    </tr>\n",
       "  </thead>\n",
       "  <tbody>\n",
       "    <tr>\n",
       "      <th>6531346</th>\n",
       "      <td>60338</td>\n",
       "      <td>8277</td>\n",
       "      <td>7</td>\n",
       "    </tr>\n",
       "    <tr>\n",
       "      <th>2853705</th>\n",
       "      <td>26685</td>\n",
       "      <td>3702</td>\n",
       "      <td>8</td>\n",
       "    </tr>\n",
       "    <tr>\n",
       "      <th>4764514</th>\n",
       "      <td>45472</td>\n",
       "      <td>1498</td>\n",
       "      <td>6</td>\n",
       "    </tr>\n",
       "  </tbody>\n",
       "</table>\n",
       "</div>"
      ],
      "text/plain": [
       "         user_id  anime_id  rating\n",
       "6531346    60338      8277       7\n",
       "2853705    26685      3702       8\n",
       "4764514    45472      1498       6"
      ]
     },
     "execution_count": 14,
     "metadata": {},
     "output_type": "execute_result"
    }
   ],
   "source": [
    "ratings = pd.read_csv('rating.csv')\n",
    "ratings.sample(3)"
   ]
  },
  {
   "cell_type": "markdown",
   "metadata": {
    "id": "2aGFnHy54888"
   },
   "source": [
    "**Deskripsi Dataset**"
   ]
  },
  {
   "cell_type": "markdown",
   "metadata": {
    "id": "gYCFNCF9x1Mi"
   },
   "source": [
    "**Memperoleh informasi mengenai dataset 'anime.csv' dan 'ratings.csv'**"
   ]
  },
  {
   "cell_type": "markdown",
   "metadata": {
    "id": "9PBcF4Dd1F3L"
   },
   "source": [
    "Mengetahui jumlah baris dan kolom pada data"
   ]
  },
  {
   "cell_type": "code",
   "execution_count": 16,
   "metadata": {
    "colab": {
     "base_uri": "https://localhost:8080/"
    },
    "id": "S2TSjoPD2DiM",
    "outputId": "9acb2766-b3c9-40ca-dac3-9091e9c07836"
   },
   "outputs": [
    {
     "data": {
      "text/plain": [
       "(1156, 7)"
      ]
     },
     "execution_count": 16,
     "metadata": {},
     "output_type": "execute_result"
    }
   ],
   "source": [
    "animes.shape"
   ]
  },
  {
   "cell_type": "code",
   "execution_count": 17,
   "metadata": {
    "colab": {
     "base_uri": "https://localhost:8080/"
    },
    "id": "7ScJK4aJ2FIL",
    "outputId": "1091805c-71f8-41d0-bf81-9984e5b1576a"
   },
   "outputs": [
    {
     "data": {
      "text/plain": [
       "(7813737, 3)"
      ]
     },
     "execution_count": 17,
     "metadata": {},
     "output_type": "execute_result"
    }
   ],
   "source": [
    "ratings.shape"
   ]
  },
  {
   "cell_type": "code",
   "execution_count": 18,
   "metadata": {
    "colab": {
     "base_uri": "https://localhost:8080/"
    },
    "id": "AXbwCRZB1QDQ",
    "outputId": "6716e62f-0d78-4dcd-f9d2-831f1b35866c"
   },
   "outputs": [
    {
     "data": {
      "text/plain": [
       "<bound method DataFrame.info of        anime_id                                               name    genre  \\\n",
       "244        5365                                      Tsumiki no Ie    Drama   \n",
       "321        6211                                Tokyo Magnitude 8.0    Drama   \n",
       "415        7711                            Karigurashi no Arrietty  Fantasy   \n",
       "469       29093              Grisaia no Meikyuu: Caprice no Mayu 0    Drama   \n",
       "707        1520                                         Black Jack    Drama   \n",
       "...         ...                                                ...      ...   \n",
       "11062     34348                                    Rescue Academia    Drama   \n",
       "11066     34494                                       Sakura Quest   Comedy   \n",
       "11074     34456                         Sentai Hero Sukiyaki Force   Comedy   \n",
       "11093     21305                                     Trick or Alice  Fantasy   \n",
       "11098     34498  Uchiage Hanabi, Shita kara Miru ka? Yoko kara ...    Drama   \n",
       "\n",
       "          type episodes  rating  members  \n",
       "244      Movie        1    8.27    45189  \n",
       "321         TV       11    8.19   121349  \n",
       "415      Movie        1    8.10    97910  \n",
       "469    Special        1    8.05    70039  \n",
       "707        OVA       12    7.88    14414  \n",
       "...        ...      ...     ...      ...  \n",
       "11062      NaN  Unknown     NaN       65  \n",
       "11066       TV  Unknown     NaN     1295  \n",
       "11074       TV  Unknown     NaN       43  \n",
       "11093      OVA  Unknown     NaN     4481  \n",
       "11098    Movie        1     NaN      531  \n",
       "\n",
       "[1156 rows x 7 columns]>"
      ]
     },
     "execution_count": 18,
     "metadata": {},
     "output_type": "execute_result"
    }
   ],
   "source": [
    "animes.info"
   ]
  },
  {
   "cell_type": "code",
   "execution_count": 19,
   "metadata": {
    "colab": {
     "base_uri": "https://localhost:8080/"
    },
    "id": "gyC8aPGS1Xsy",
    "outputId": "9ff48f65-6e99-46ba-a3fc-07cb34d0254d"
   },
   "outputs": [
    {
     "data": {
      "text/plain": [
       "<bound method DataFrame.info of          user_id  anime_id  rating\n",
       "0              1        20      -1\n",
       "1              1        24      -1\n",
       "2              1        79      -1\n",
       "3              1       226      -1\n",
       "4              1       241      -1\n",
       "...          ...       ...     ...\n",
       "7813732    73515     16512       7\n",
       "7813733    73515     17187       9\n",
       "7813734    73515     22145      10\n",
       "7813735    73516       790       9\n",
       "7813736    73516      8074       9\n",
       "\n",
       "[7813737 rows x 3 columns]>"
      ]
     },
     "execution_count": 19,
     "metadata": {},
     "output_type": "execute_result"
    }
   ],
   "source": [
    "ratings.info"
   ]
  },
  {
   "cell_type": "markdown",
   "metadata": {
    "id": "mcx-b8ze1MnC"
   },
   "source": [
    "Mengetahui rentang nilai rating pada data"
   ]
  },
  {
   "cell_type": "code",
   "execution_count": 20,
   "metadata": {
    "colab": {
     "base_uri": "https://localhost:8080/",
     "height": 300
    },
    "id": "Yl7Qq9j01lzF",
    "outputId": "c36acf2c-67b4-41d3-c339-7764cb00865d"
   },
   "outputs": [
    {
     "data": {
      "text/html": [
       "<div>\n",
       "<style scoped>\n",
       "    .dataframe tbody tr th:only-of-type {\n",
       "        vertical-align: middle;\n",
       "    }\n",
       "\n",
       "    .dataframe tbody tr th {\n",
       "        vertical-align: top;\n",
       "    }\n",
       "\n",
       "    .dataframe thead th {\n",
       "        text-align: right;\n",
       "    }\n",
       "</style>\n",
       "<table border=\"1\" class=\"dataframe\">\n",
       "  <thead>\n",
       "    <tr style=\"text-align: right;\">\n",
       "      <th></th>\n",
       "      <th>user_id</th>\n",
       "      <th>anime_id</th>\n",
       "      <th>rating</th>\n",
       "    </tr>\n",
       "  </thead>\n",
       "  <tbody>\n",
       "    <tr>\n",
       "      <th>count</th>\n",
       "      <td>7.813737e+06</td>\n",
       "      <td>7.813737e+06</td>\n",
       "      <td>7.813737e+06</td>\n",
       "    </tr>\n",
       "    <tr>\n",
       "      <th>mean</th>\n",
       "      <td>3.672796e+04</td>\n",
       "      <td>8.909072e+03</td>\n",
       "      <td>6.144030e+00</td>\n",
       "    </tr>\n",
       "    <tr>\n",
       "      <th>std</th>\n",
       "      <td>2.099795e+04</td>\n",
       "      <td>8.883950e+03</td>\n",
       "      <td>3.727800e+00</td>\n",
       "    </tr>\n",
       "    <tr>\n",
       "      <th>min</th>\n",
       "      <td>1.000000e+00</td>\n",
       "      <td>1.000000e+00</td>\n",
       "      <td>-1.000000e+00</td>\n",
       "    </tr>\n",
       "    <tr>\n",
       "      <th>25%</th>\n",
       "      <td>1.897400e+04</td>\n",
       "      <td>1.240000e+03</td>\n",
       "      <td>6.000000e+00</td>\n",
       "    </tr>\n",
       "    <tr>\n",
       "      <th>50%</th>\n",
       "      <td>3.679100e+04</td>\n",
       "      <td>6.213000e+03</td>\n",
       "      <td>7.000000e+00</td>\n",
       "    </tr>\n",
       "    <tr>\n",
       "      <th>75%</th>\n",
       "      <td>5.475700e+04</td>\n",
       "      <td>1.409300e+04</td>\n",
       "      <td>9.000000e+00</td>\n",
       "    </tr>\n",
       "    <tr>\n",
       "      <th>max</th>\n",
       "      <td>7.351600e+04</td>\n",
       "      <td>3.451900e+04</td>\n",
       "      <td>1.000000e+01</td>\n",
       "    </tr>\n",
       "  </tbody>\n",
       "</table>\n",
       "</div>"
      ],
      "text/plain": [
       "            user_id      anime_id        rating\n",
       "count  7.813737e+06  7.813737e+06  7.813737e+06\n",
       "mean   3.672796e+04  8.909072e+03  6.144030e+00\n",
       "std    2.099795e+04  8.883950e+03  3.727800e+00\n",
       "min    1.000000e+00  1.000000e+00 -1.000000e+00\n",
       "25%    1.897400e+04  1.240000e+03  6.000000e+00\n",
       "50%    3.679100e+04  6.213000e+03  7.000000e+00\n",
       "75%    5.475700e+04  1.409300e+04  9.000000e+00\n",
       "max    7.351600e+04  3.451900e+04  1.000000e+01"
      ]
     },
     "execution_count": 20,
     "metadata": {},
     "output_type": "execute_result"
    }
   ],
   "source": [
    "ratings.describe()"
   ]
  },
  {
   "cell_type": "markdown",
   "metadata": {
    "id": "_4sAVlCI_7PR"
   },
   "source": [
    "Menghitung jumlah/overall masing - masing konten anime dan genre"
   ]
  },
  {
   "cell_type": "code",
   "execution_count": 21,
   "metadata": {
    "colab": {
     "base_uri": "https://localhost:8080/"
    },
    "id": "S7XQtp7q1qJi",
    "outputId": "e03257a6-bb0e-421b-b35f-3288c1453211"
   },
   "outputs": [
    {
     "name": "stdout",
     "output_type": "stream",
     "text": [
      "Jumlah Anime:  1156\n",
      "Jumlah Genre:  12\n"
     ]
    }
   ],
   "source": [
    "print('Jumlah Anime: ', len(animes.anime_id.unique()))\n",
    "print('Jumlah Genre: ', len(animes.genre.unique()))"
   ]
  },
  {
   "cell_type": "markdown",
   "metadata": {
    "id": "dvB0io60AHUE"
   },
   "source": [
    "Memperoleh jenis genre dan tipe penayangan konten anime"
   ]
  },
  {
   "cell_type": "code",
   "execution_count": 22,
   "metadata": {
    "colab": {
     "base_uri": "https://localhost:8080/"
    },
    "id": "qjRFXhdd19nV",
    "outputId": "4eed5c9f-6d9d-4b34-c2a7-f8798f5de6ba"
   },
   "outputs": [
    {
     "name": "stdout",
     "output_type": "stream",
     "text": [
      "Genre:  ['Drama' 'Fantasy' 'Comedy' 'Action' 'Mystery' 'Adventure' 'Sports'\n",
      " 'Slice of Life' 'Romance' 'Historical' 'Horror' 'Supernatural']\n",
      "Types:  ['Movie' 'TV' 'Special' 'OVA' 'ONA' nan]\n"
     ]
    }
   ],
   "source": [
    "print('Genre: ', animes.genre.unique())\n",
    "print('Types: ', animes.type.unique())"
   ]
  },
  {
   "cell_type": "markdown",
   "metadata": {
    "id": "4DpXebz_5N67"
   },
   "source": [
    "**Exploratory Data Analysis**"
   ]
  },
  {
   "cell_type": "markdown",
   "metadata": {
    "id": "cjyx-Zn7AP0u"
   },
   "source": [
    "Visualisasi data, untuk mengetahui porsi jumlah masing - masing genre terhadap keseluruhan data"
   ]
  },
  {
   "cell_type": "code",
   "execution_count": 23,
   "metadata": {
    "colab": {
     "base_uri": "https://localhost:8080/"
    },
    "id": "mvKb3OGe2rnN",
    "outputId": "b872b1e1-4046-4e02-d8e2-20f32a6c0c48"
   },
   "outputs": [
    {
     "name": "stdout",
     "output_type": "stream",
     "text": [
      "               jumlah Anime  Persentase\n",
      "Comedy                  523        45.2\n",
      "Fantasy                 114         9.9\n",
      "Drama                   107         9.3\n",
      "Slice of Life            99         8.6\n",
      "Adventure                79         6.8\n",
      "Historical               68         5.9\n",
      "Action                   53         4.6\n",
      "Sports                   44         3.8\n",
      "Horror                   21         1.8\n",
      "Mystery                  19         1.6\n",
      "Romance                  15         1.3\n",
      "Supernatural             14         1.2\n"
     ]
    }
   ],
   "source": [
    "categorical_features = ['genre']\n",
    "feature = categorical_features[0]\n",
    "count = animes[feature].value_counts()\n",
    "percent = 100*animes[feature].value_counts(normalize=True)\n",
    "df = pd.DataFrame({'jumlah Anime':count, 'Persentase':percent.round(1)})\n",
    "print(df)"
   ]
  },
  {
   "cell_type": "code",
   "execution_count": 24,
   "metadata": {
    "colab": {
     "base_uri": "https://localhost:8080/",
     "height": 336
    },
    "id": "JQcKCvO45mIj",
    "outputId": "4ebf1b1d-da1f-4eaa-9061-cb930b464b68"
   },
   "outputs": [
    {
     "data": {
      "image/png": "[encoded data removed]",
      "text/plain": [
       "<Figure size 640x480 with 1 Axes>"
      ]
     },
     "metadata": {},
     "output_type": "display_data"
    }
   ],
   "source": [
    "count.plot(kind='bar', title=feature);"
   ]
  },
  {
   "cell_type": "markdown",
   "metadata": {
    "id": "n37RissMAcUW"
   },
   "source": [
    "Menghitung jumlah user ID dan data rating berdasarkan raw dataset saat ini"
   ]
  },
  {
   "cell_type": "code",
   "execution_count": 25,
   "metadata": {
    "colab": {
     "base_uri": "https://localhost:8080/"
    },
    "id": "v0l9XDWh2aRV",
    "outputId": "9e651592-17c4-41c6-bef0-de43ecb0c8c4"
   },
   "outputs": [
    {
     "name": "stdout",
     "output_type": "stream",
     "text": [
      "Jumlah User:  73515\n",
      "Jumlah rating:  7813737\n"
     ]
    }
   ],
   "source": [
    "print('Jumlah User: ', len(ratings.user_id.unique()))\n",
    "print('Jumlah rating: ', len(ratings))"
   ]
  },
  {
   "cell_type": "code",
   "execution_count": 26,
   "metadata": {
    "colab": {
     "base_uri": "https://localhost:8080/",
     "height": 783
    },
    "id": "ELXmRLJgHKl1",
    "outputId": "90fa5ed2-8efd-485a-c217-5f6144239c8b"
   },
   "outputs": [
    {
     "data": {
      "image/png": "[encoded data removed]",
      "text/plain": [
       "<Figure size 2000x1500 with 4 Axes>"
      ]
     },
     "metadata": {},
     "output_type": "display_data"
    }
   ],
   "source": [
    "ratings.hist(bins=50, figsize=(20,15))\n",
    "plt.show()"
   ]
  },
  {
   "cell_type": "markdown",
   "metadata": {
    "id": "H2fshDkIAMRa"
   },
   "source": [
    "**Data Preparation**"
   ]
  },
  {
   "cell_type": "markdown",
   "metadata": {
    "id": "bPScMcV1AuOI"
   },
   "source": [
    "**Menggabungkan data anime_id pada dataset 'anime' dan 'ratings' untuk memperoleh info jumlah aktual pada fitur anime_id**"
   ]
  },
  {
   "cell_type": "code",
   "execution_count": 27,
   "metadata": {
    "colab": {
     "base_uri": "https://localhost:8080/"
    },
    "id": "CSruJAI04PDB",
    "outputId": "73fe91b7-5530-4b05-db6d-db85aadf13d6"
   },
   "outputs": [
    {
     "name": "stdout",
     "output_type": "stream",
     "text": [
      "Jumlah seluruh data id berdasarkan anime_id:  11363\n"
     ]
    }
   ],
   "source": [
    "animes_allid = np.concatenate((\n",
    "    animes.anime_id.unique(),\n",
    "    ratings.anime_id.unique(),\n",
    "))\n",
    " \n",
    "animes_allid = np.sort(np.unique(animes_allid))\n",
    " \n",
    "print('Jumlah seluruh data id berdasarkan anime_id: ', len(animes_allid))\n"
   ]
  },
  {
   "cell_type": "markdown",
   "metadata": {
    "id": "i7h6XiiqA9lh"
   },
   "source": [
    "**Menggabungkan data rating pada dataset 'anime' dan 'ratings' untuk memperoleh info jumlah aktual pada fitur rating**"
   ]
  },
  {
   "cell_type": "code",
   "execution_count": 28,
   "metadata": {
    "colab": {
     "base_uri": "https://localhost:8080/"
    },
    "id": "Yem_QoFfY2f3",
    "outputId": "0fde4b5f-c9fb-41d5-a285-42a463d7dec7"
   },
   "outputs": [
    {
     "name": "stdout",
     "output_type": "stream",
     "text": [
      "Jumlah seluruh data rating berdasarkan anime_id:  380\n"
     ]
    }
   ],
   "source": [
    "animes_allrate = np.concatenate((\n",
    "    animes.rating.unique(),\n",
    "    ratings.rating.unique(),\n",
    "))\n",
    " \n",
    "# Mengurutkan data\n",
    "animes_allrate = np.sort(np.unique(animes_allrate))\n",
    " \n",
    "print('Jumlah seluruh data rating berdasarkan anime_id: ', len(animes_allrate))"
   ]
  },
  {
   "cell_type": "markdown",
   "metadata": {
    "id": "V7qEOX3MBDzn"
   },
   "source": [
    "Memeriksa apakah terdapat data yang kosong atau 'NaN' pada data"
   ]
  },
  {
   "cell_type": "code",
   "execution_count": 29,
   "metadata": {
    "colab": {
     "base_uri": "https://localhost:8080/"
    },
    "id": "QULN2MHDZvr9",
    "outputId": "6bad1a8d-ef59-4b84-ff29-8cd93b807aa2"
   },
   "outputs": [
    {
     "data": {
      "text/plain": [
       "anime_id     0\n",
       "name         0\n",
       "genre        0\n",
       "type         2\n",
       "episodes     0\n",
       "rating      13\n",
       "members      0\n",
       "dtype: int64"
      ]
     },
     "execution_count": 29,
     "metadata": {},
     "output_type": "execute_result"
    }
   ],
   "source": [
    "animes.isnull().sum()"
   ]
  },
  {
   "cell_type": "markdown",
   "metadata": {
    "id": "tFLGtwSFBK3a"
   },
   "source": [
    "**Menghapus data yang kosong atau 'NaN'**"
   ]
  },
  {
   "cell_type": "code",
   "execution_count": 30,
   "metadata": {
    "colab": {
     "base_uri": "https://localhost:8080/",
     "height": 424
    },
    "id": "hmLU1pbaZ-2x",
    "outputId": "bd02e1d7-fe94-4fea-b039-6ebbaf893ac4"
   },
   "outputs": [
    {
     "data": {
      "text/html": [
       "<div>\n",
       "<style scoped>\n",
       "    .dataframe tbody tr th:only-of-type {\n",
       "        vertical-align: middle;\n",
       "    }\n",
       "\n",
       "    .dataframe tbody tr th {\n",
       "        vertical-align: top;\n",
       "    }\n",
       "\n",
       "    .dataframe thead th {\n",
       "        text-align: right;\n",
       "    }\n",
       "</style>\n",
       "<table border=\"1\" class=\"dataframe\">\n",
       "  <thead>\n",
       "    <tr style=\"text-align: right;\">\n",
       "      <th></th>\n",
       "      <th>anime_id</th>\n",
       "      <th>name</th>\n",
       "      <th>genre</th>\n",
       "      <th>type</th>\n",
       "      <th>episodes</th>\n",
       "      <th>rating</th>\n",
       "      <th>members</th>\n",
       "    </tr>\n",
       "  </thead>\n",
       "  <tbody>\n",
       "    <tr>\n",
       "      <th>244</th>\n",
       "      <td>5365</td>\n",
       "      <td>Tsumiki no Ie</td>\n",
       "      <td>Drama</td>\n",
       "      <td>Movie</td>\n",
       "      <td>1</td>\n",
       "      <td>8.27</td>\n",
       "      <td>45189</td>\n",
       "    </tr>\n",
       "    <tr>\n",
       "      <th>321</th>\n",
       "      <td>6211</td>\n",
       "      <td>Tokyo Magnitude 8.0</td>\n",
       "      <td>Drama</td>\n",
       "      <td>TV</td>\n",
       "      <td>11</td>\n",
       "      <td>8.19</td>\n",
       "      <td>121349</td>\n",
       "    </tr>\n",
       "    <tr>\n",
       "      <th>415</th>\n",
       "      <td>7711</td>\n",
       "      <td>Karigurashi no Arrietty</td>\n",
       "      <td>Fantasy</td>\n",
       "      <td>Movie</td>\n",
       "      <td>1</td>\n",
       "      <td>8.10</td>\n",
       "      <td>97910</td>\n",
       "    </tr>\n",
       "    <tr>\n",
       "      <th>469</th>\n",
       "      <td>29093</td>\n",
       "      <td>Grisaia no Meikyuu: Caprice no Mayu 0</td>\n",
       "      <td>Drama</td>\n",
       "      <td>Special</td>\n",
       "      <td>1</td>\n",
       "      <td>8.05</td>\n",
       "      <td>70039</td>\n",
       "    </tr>\n",
       "    <tr>\n",
       "      <th>707</th>\n",
       "      <td>1520</td>\n",
       "      <td>Black Jack</td>\n",
       "      <td>Drama</td>\n",
       "      <td>OVA</td>\n",
       "      <td>12</td>\n",
       "      <td>7.88</td>\n",
       "      <td>14414</td>\n",
       "    </tr>\n",
       "    <tr>\n",
       "      <th>...</th>\n",
       "      <td>...</td>\n",
       "      <td>...</td>\n",
       "      <td>...</td>\n",
       "      <td>...</td>\n",
       "      <td>...</td>\n",
       "      <td>...</td>\n",
       "      <td>...</td>\n",
       "    </tr>\n",
       "    <tr>\n",
       "      <th>10885</th>\n",
       "      <td>12759</td>\n",
       "      <td>Zoku Zoku Mura no Obaketachi</td>\n",
       "      <td>Fantasy</td>\n",
       "      <td>OVA</td>\n",
       "      <td>12</td>\n",
       "      <td>6.33</td>\n",
       "      <td>76</td>\n",
       "    </tr>\n",
       "    <tr>\n",
       "      <th>10888</th>\n",
       "      <td>30090</td>\n",
       "      <td>Zombie Ehon</td>\n",
       "      <td>Comedy</td>\n",
       "      <td>ONA</td>\n",
       "      <td>1</td>\n",
       "      <td>3.54</td>\n",
       "      <td>86</td>\n",
       "    </tr>\n",
       "    <tr>\n",
       "      <th>10890</th>\n",
       "      <td>11097</td>\n",
       "      <td>Zou no Inai Doubutsuen</td>\n",
       "      <td>Drama</td>\n",
       "      <td>Movie</td>\n",
       "      <td>1</td>\n",
       "      <td>6.07</td>\n",
       "      <td>85</td>\n",
       "    </tr>\n",
       "    <tr>\n",
       "      <th>10891</th>\n",
       "      <td>11095</td>\n",
       "      <td>Zouressha ga Yatte Kita</td>\n",
       "      <td>Adventure</td>\n",
       "      <td>Movie</td>\n",
       "      <td>1</td>\n",
       "      <td>6.06</td>\n",
       "      <td>78</td>\n",
       "    </tr>\n",
       "    <tr>\n",
       "      <th>10895</th>\n",
       "      <td>13455</td>\n",
       "      <td>Zumomo to Nupepe</td>\n",
       "      <td>Comedy</td>\n",
       "      <td>TV</td>\n",
       "      <td>32</td>\n",
       "      <td>7.00</td>\n",
       "      <td>120</td>\n",
       "    </tr>\n",
       "  </tbody>\n",
       "</table>\n",
       "<p>1143 rows × 7 columns</p>\n",
       "</div>"
      ],
      "text/plain": [
       "       anime_id                                   name      genre     type  \\\n",
       "244        5365                          Tsumiki no Ie      Drama    Movie   \n",
       "321        6211                    Tokyo Magnitude 8.0      Drama       TV   \n",
       "415        7711                Karigurashi no Arrietty    Fantasy    Movie   \n",
       "469       29093  Grisaia no Meikyuu: Caprice no Mayu 0      Drama  Special   \n",
       "707        1520                             Black Jack      Drama      OVA   \n",
       "...         ...                                    ...        ...      ...   \n",
       "10885     12759           Zoku Zoku Mura no Obaketachi    Fantasy      OVA   \n",
       "10888     30090                            Zombie Ehon     Comedy      ONA   \n",
       "10890     11097                 Zou no Inai Doubutsuen      Drama    Movie   \n",
       "10891     11095                Zouressha ga Yatte Kita  Adventure    Movie   \n",
       "10895     13455                       Zumomo to Nupepe     Comedy       TV   \n",
       "\n",
       "      episodes  rating  members  \n",
       "244          1    8.27    45189  \n",
       "321         11    8.19   121349  \n",
       "415          1    8.10    97910  \n",
       "469          1    8.05    70039  \n",
       "707         12    7.88    14414  \n",
       "...        ...     ...      ...  \n",
       "10885       12    6.33       76  \n",
       "10888        1    3.54       86  \n",
       "10890        1    6.07       85  \n",
       "10891        1    6.06       78  \n",
       "10895       32    7.00      120  \n",
       "\n",
       "[1143 rows x 7 columns]"
      ]
     },
     "execution_count": 30,
     "metadata": {},
     "output_type": "execute_result"
    }
   ],
   "source": [
    "animes_fix = animes.dropna()\n",
    "animes_fix"
   ]
  },
  {
   "cell_type": "markdown",
   "metadata": {
    "id": "r16teiubBR1p"
   },
   "source": [
    "**Sorting data/mengurutkan data dari angka terkecil fitur anime_id**"
   ]
  },
  {
   "cell_type": "code",
   "execution_count": 31,
   "metadata": {
    "colab": {
     "base_uri": "https://localhost:8080/",
     "height": 424
    },
    "id": "jfMlOIL8aQy9",
    "outputId": "846dbbf6-2ee5-4032-f512-db6a57cffb9c"
   },
   "outputs": [
    {
     "data": {
      "text/html": [
       "<div>\n",
       "<style scoped>\n",
       "    .dataframe tbody tr th:only-of-type {\n",
       "        vertical-align: middle;\n",
       "    }\n",
       "\n",
       "    .dataframe tbody tr th {\n",
       "        vertical-align: top;\n",
       "    }\n",
       "\n",
       "    .dataframe thead th {\n",
       "        text-align: right;\n",
       "    }\n",
       "</style>\n",
       "<table border=\"1\" class=\"dataframe\">\n",
       "  <thead>\n",
       "    <tr style=\"text-align: right;\">\n",
       "      <th></th>\n",
       "      <th>anime_id</th>\n",
       "      <th>name</th>\n",
       "      <th>genre</th>\n",
       "      <th>type</th>\n",
       "      <th>episodes</th>\n",
       "      <th>rating</th>\n",
       "      <th>members</th>\n",
       "    </tr>\n",
       "  </thead>\n",
       "  <tbody>\n",
       "    <tr>\n",
       "      <th>1809</th>\n",
       "      <td>485</td>\n",
       "      <td>Damekko Doubutsu</td>\n",
       "      <td>Comedy</td>\n",
       "      <td>TV</td>\n",
       "      <td>26</td>\n",
       "      <td>7.43</td>\n",
       "      <td>8024</td>\n",
       "    </tr>\n",
       "    <tr>\n",
       "      <th>3254</th>\n",
       "      <td>580</td>\n",
       "      <td>Kogepan</td>\n",
       "      <td>Comedy</td>\n",
       "      <td>TV</td>\n",
       "      <td>10</td>\n",
       "      <td>7.04</td>\n",
       "      <td>4436</td>\n",
       "    </tr>\n",
       "    <tr>\n",
       "      <th>3174</th>\n",
       "      <td>673</td>\n",
       "      <td>Mai-HiME Specials</td>\n",
       "      <td>Comedy</td>\n",
       "      <td>Special</td>\n",
       "      <td>27</td>\n",
       "      <td>7.06</td>\n",
       "      <td>9210</td>\n",
       "    </tr>\n",
       "    <tr>\n",
       "      <th>6161</th>\n",
       "      <td>748</td>\n",
       "      <td>True Love Story</td>\n",
       "      <td>Romance</td>\n",
       "      <td>OVA</td>\n",
       "      <td>3</td>\n",
       "      <td>6.24</td>\n",
       "      <td>3409</td>\n",
       "    </tr>\n",
       "    <tr>\n",
       "      <th>6833</th>\n",
       "      <td>983</td>\n",
       "      <td>Cosplay Complex: Extra Identification</td>\n",
       "      <td>Comedy</td>\n",
       "      <td>OVA</td>\n",
       "      <td>1</td>\n",
       "      <td>5.90</td>\n",
       "      <td>2145</td>\n",
       "    </tr>\n",
       "    <tr>\n",
       "      <th>...</th>\n",
       "      <td>...</td>\n",
       "      <td>...</td>\n",
       "      <td>...</td>\n",
       "      <td>...</td>\n",
       "      <td>...</td>\n",
       "      <td>...</td>\n",
       "      <td>...</td>\n",
       "    </tr>\n",
       "    <tr>\n",
       "      <th>7459</th>\n",
       "      <td>34324</td>\n",
       "      <td>Chiryokumaru</td>\n",
       "      <td>Action</td>\n",
       "      <td>ONA</td>\n",
       "      <td>1</td>\n",
       "      <td>5.40</td>\n",
       "      <td>817</td>\n",
       "    </tr>\n",
       "    <tr>\n",
       "      <th>10662</th>\n",
       "      <td>34453</td>\n",
       "      <td>Uma Musume: Pretty Derby</td>\n",
       "      <td>Action</td>\n",
       "      <td>ONA</td>\n",
       "      <td>1</td>\n",
       "      <td>6.64</td>\n",
       "      <td>75</td>\n",
       "    </tr>\n",
       "    <tr>\n",
       "      <th>10444</th>\n",
       "      <td>34490</td>\n",
       "      <td>Sushi Azarashi</td>\n",
       "      <td>Comedy</td>\n",
       "      <td>TV</td>\n",
       "      <td>30</td>\n",
       "      <td>3.00</td>\n",
       "      <td>12</td>\n",
       "    </tr>\n",
       "    <tr>\n",
       "      <th>9266</th>\n",
       "      <td>34503</td>\n",
       "      <td>Kochinpa! Dainiki</td>\n",
       "      <td>Comedy</td>\n",
       "      <td>TV</td>\n",
       "      <td>24</td>\n",
       "      <td>3.40</td>\n",
       "      <td>75</td>\n",
       "    </tr>\n",
       "    <tr>\n",
       "      <th>9586</th>\n",
       "      <td>34519</td>\n",
       "      <td>Mobile Suit Gakuen: G-Reco Koushien</td>\n",
       "      <td>Comedy</td>\n",
       "      <td>Special</td>\n",
       "      <td>9</td>\n",
       "      <td>5.67</td>\n",
       "      <td>94</td>\n",
       "    </tr>\n",
       "  </tbody>\n",
       "</table>\n",
       "<p>1143 rows × 7 columns</p>\n",
       "</div>"
      ],
      "text/plain": [
       "       anime_id                                   name    genre     type  \\\n",
       "1809        485                       Damekko Doubutsu   Comedy       TV   \n",
       "3254        580                                Kogepan   Comedy       TV   \n",
       "3174        673                      Mai-HiME Specials   Comedy  Special   \n",
       "6161        748                        True Love Story  Romance      OVA   \n",
       "6833        983  Cosplay Complex: Extra Identification   Comedy      OVA   \n",
       "...         ...                                    ...      ...      ...   \n",
       "7459      34324                           Chiryokumaru   Action      ONA   \n",
       "10662     34453               Uma Musume: Pretty Derby   Action      ONA   \n",
       "10444     34490                         Sushi Azarashi   Comedy       TV   \n",
       "9266      34503                      Kochinpa! Dainiki   Comedy       TV   \n",
       "9586      34519    Mobile Suit Gakuen: G-Reco Koushien   Comedy  Special   \n",
       "\n",
       "      episodes  rating  members  \n",
       "1809        26    7.43     8024  \n",
       "3254        10    7.04     4436  \n",
       "3174        27    7.06     9210  \n",
       "6161         3    6.24     3409  \n",
       "6833         1    5.90     2145  \n",
       "...        ...     ...      ...  \n",
       "7459         1    5.40      817  \n",
       "10662        1    6.64       75  \n",
       "10444       30    3.00       12  \n",
       "9266        24    3.40       75  \n",
       "9586         9    5.67       94  \n",
       "\n",
       "[1143 rows x 7 columns]"
      ]
     },
     "execution_count": 31,
     "metadata": {},
     "output_type": "execute_result"
    }
   ],
   "source": [
    "animes_fixed = animes_fix.sort_values('anime_id', ascending=True)\n",
    "animes_fixed"
   ]
  },
  {
   "cell_type": "code",
   "execution_count": 32,
   "metadata": {
    "colab": {
     "base_uri": "https://localhost:8080/"
    },
    "id": "EtUvNLD4pQiW",
    "outputId": "12c46b79-3092-4b37-cf80-2a87fda17769"
   },
   "outputs": [
    {
     "name": "stdout",
     "output_type": "stream",
     "text": [
      "Jumlah anime_id:  1143\n",
      "Jumlah genre:  12\n"
     ]
    }
   ],
   "source": [
    "print('Jumlah anime_id: ', len(animes_fixed.anime_id.unique())) \n",
    "print('Jumlah genre: ', len(animes_fixed.genre.unique()))"
   ]
  },
  {
   "cell_type": "markdown",
   "metadata": {
    "id": "vL8Pf4XjBuNN"
   },
   "source": [
    "**Drop value yang memiliki data duplikat pada dataset yang telah diolah sebelumnya**"
   ]
  },
  {
   "cell_type": "code",
   "execution_count": 33,
   "metadata": {
    "colab": {
     "base_uri": "https://localhost:8080/",
     "height": 424
    },
    "id": "3Q4Y_GyZpmqS",
    "outputId": "3248f71e-9292-4c96-9e1a-72df3aeb54a3"
   },
   "outputs": [
    {
     "data": {
      "text/html": [
       "<div>\n",
       "<style scoped>\n",
       "    .dataframe tbody tr th:only-of-type {\n",
       "        vertical-align: middle;\n",
       "    }\n",
       "\n",
       "    .dataframe tbody tr th {\n",
       "        vertical-align: top;\n",
       "    }\n",
       "\n",
       "    .dataframe thead th {\n",
       "        text-align: right;\n",
       "    }\n",
       "</style>\n",
       "<table border=\"1\" class=\"dataframe\">\n",
       "  <thead>\n",
       "    <tr style=\"text-align: right;\">\n",
       "      <th></th>\n",
       "      <th>anime_id</th>\n",
       "      <th>name</th>\n",
       "      <th>genre</th>\n",
       "      <th>type</th>\n",
       "      <th>episodes</th>\n",
       "      <th>rating</th>\n",
       "      <th>members</th>\n",
       "    </tr>\n",
       "  </thead>\n",
       "  <tbody>\n",
       "    <tr>\n",
       "      <th>1809</th>\n",
       "      <td>485</td>\n",
       "      <td>Damekko Doubutsu</td>\n",
       "      <td>Comedy</td>\n",
       "      <td>TV</td>\n",
       "      <td>26</td>\n",
       "      <td>7.43</td>\n",
       "      <td>8024</td>\n",
       "    </tr>\n",
       "    <tr>\n",
       "      <th>3254</th>\n",
       "      <td>580</td>\n",
       "      <td>Kogepan</td>\n",
       "      <td>Comedy</td>\n",
       "      <td>TV</td>\n",
       "      <td>10</td>\n",
       "      <td>7.04</td>\n",
       "      <td>4436</td>\n",
       "    </tr>\n",
       "    <tr>\n",
       "      <th>3174</th>\n",
       "      <td>673</td>\n",
       "      <td>Mai-HiME Specials</td>\n",
       "      <td>Comedy</td>\n",
       "      <td>Special</td>\n",
       "      <td>27</td>\n",
       "      <td>7.06</td>\n",
       "      <td>9210</td>\n",
       "    </tr>\n",
       "    <tr>\n",
       "      <th>6161</th>\n",
       "      <td>748</td>\n",
       "      <td>True Love Story</td>\n",
       "      <td>Romance</td>\n",
       "      <td>OVA</td>\n",
       "      <td>3</td>\n",
       "      <td>6.24</td>\n",
       "      <td>3409</td>\n",
       "    </tr>\n",
       "    <tr>\n",
       "      <th>6833</th>\n",
       "      <td>983</td>\n",
       "      <td>Cosplay Complex: Extra Identification</td>\n",
       "      <td>Comedy</td>\n",
       "      <td>OVA</td>\n",
       "      <td>1</td>\n",
       "      <td>5.90</td>\n",
       "      <td>2145</td>\n",
       "    </tr>\n",
       "    <tr>\n",
       "      <th>...</th>\n",
       "      <td>...</td>\n",
       "      <td>...</td>\n",
       "      <td>...</td>\n",
       "      <td>...</td>\n",
       "      <td>...</td>\n",
       "      <td>...</td>\n",
       "      <td>...</td>\n",
       "    </tr>\n",
       "    <tr>\n",
       "      <th>7459</th>\n",
       "      <td>34324</td>\n",
       "      <td>Chiryokumaru</td>\n",
       "      <td>Action</td>\n",
       "      <td>ONA</td>\n",
       "      <td>1</td>\n",
       "      <td>5.40</td>\n",
       "      <td>817</td>\n",
       "    </tr>\n",
       "    <tr>\n",
       "      <th>10662</th>\n",
       "      <td>34453</td>\n",
       "      <td>Uma Musume: Pretty Derby</td>\n",
       "      <td>Action</td>\n",
       "      <td>ONA</td>\n",
       "      <td>1</td>\n",
       "      <td>6.64</td>\n",
       "      <td>75</td>\n",
       "    </tr>\n",
       "    <tr>\n",
       "      <th>10444</th>\n",
       "      <td>34490</td>\n",
       "      <td>Sushi Azarashi</td>\n",
       "      <td>Comedy</td>\n",
       "      <td>TV</td>\n",
       "      <td>30</td>\n",
       "      <td>3.00</td>\n",
       "      <td>12</td>\n",
       "    </tr>\n",
       "    <tr>\n",
       "      <th>9266</th>\n",
       "      <td>34503</td>\n",
       "      <td>Kochinpa! Dainiki</td>\n",
       "      <td>Comedy</td>\n",
       "      <td>TV</td>\n",
       "      <td>24</td>\n",
       "      <td>3.40</td>\n",
       "      <td>75</td>\n",
       "    </tr>\n",
       "    <tr>\n",
       "      <th>9586</th>\n",
       "      <td>34519</td>\n",
       "      <td>Mobile Suit Gakuen: G-Reco Koushien</td>\n",
       "      <td>Comedy</td>\n",
       "      <td>Special</td>\n",
       "      <td>9</td>\n",
       "      <td>5.67</td>\n",
       "      <td>94</td>\n",
       "    </tr>\n",
       "  </tbody>\n",
       "</table>\n",
       "<p>1143 rows × 7 columns</p>\n",
       "</div>"
      ],
      "text/plain": [
       "       anime_id                                   name    genre     type  \\\n",
       "1809        485                       Damekko Doubutsu   Comedy       TV   \n",
       "3254        580                                Kogepan   Comedy       TV   \n",
       "3174        673                      Mai-HiME Specials   Comedy  Special   \n",
       "6161        748                        True Love Story  Romance      OVA   \n",
       "6833        983  Cosplay Complex: Extra Identification   Comedy      OVA   \n",
       "...         ...                                    ...      ...      ...   \n",
       "7459      34324                           Chiryokumaru   Action      ONA   \n",
       "10662     34453               Uma Musume: Pretty Derby   Action      ONA   \n",
       "10444     34490                         Sushi Azarashi   Comedy       TV   \n",
       "9266      34503                      Kochinpa! Dainiki   Comedy       TV   \n",
       "9586      34519    Mobile Suit Gakuen: G-Reco Koushien   Comedy  Special   \n",
       "\n",
       "      episodes  rating  members  \n",
       "1809        26    7.43     8024  \n",
       "3254        10    7.04     4436  \n",
       "3174        27    7.06     9210  \n",
       "6161         3    6.24     3409  \n",
       "6833         1    5.90     2145  \n",
       "...        ...     ...      ...  \n",
       "7459         1    5.40      817  \n",
       "10662        1    6.64       75  \n",
       "10444       30    3.00       12  \n",
       "9266        24    3.40       75  \n",
       "9586         9    5.67       94  \n",
       "\n",
       "[1143 rows x 7 columns]"
      ]
     },
     "execution_count": 33,
     "metadata": {},
     "output_type": "execute_result"
    }
   ],
   "source": [
    "preparation = animes_fixed.drop_duplicates('anime_id')\n",
    "preparation"
   ]
  },
  {
   "cell_type": "markdown",
   "metadata": {
    "id": "Ds5vkUr3B4ED"
   },
   "source": [
    "**Melaukan konversi data pada masing - masing fitur menjadi format/bentuk list**"
   ]
  },
  {
   "cell_type": "code",
   "execution_count": 34,
   "metadata": {
    "colab": {
     "base_uri": "https://localhost:8080/"
    },
    "id": "FKf1BCPhp9vj",
    "outputId": "b6a007ca-0ee0-4eb0-bb1f-ef7f4356e99b"
   },
   "outputs": [
    {
     "name": "stdout",
     "output_type": "stream",
     "text": [
      "1143\n",
      "1143\n",
      "1143\n"
     ]
    }
   ],
   "source": [
    "# Mengonversi data series 'animeID'\n",
    "animeID = preparation['anime_id'].tolist()\n",
    " \n",
    "# Mengonversi data series ‘title’ \n",
    "title = preparation['name'].tolist()\n",
    " \n",
    "# Mengonversi data series ‘genres’\n",
    "genres = preparation['genre'].tolist()\n",
    " \n",
    "print(len(animeID))\n",
    "print(len(title))\n",
    "print(len(genres))"
   ]
  },
  {
   "cell_type": "markdown",
   "metadata": {
    "id": "0m2b1EdcCCat"
   },
   "source": [
    "**Membuat data dictionary**"
   ]
  },
  {
   "cell_type": "code",
   "execution_count": 35,
   "metadata": {
    "colab": {
     "base_uri": "https://localhost:8080/",
     "height": 424
    },
    "id": "SrEVSDH7qVAi",
    "outputId": "3d5a0c18-a51c-492d-e648-a372732ecdef"
   },
   "outputs": [
    {
     "data": {
      "text/html": [
       "<div>\n",
       "<style scoped>\n",
       "    .dataframe tbody tr th:only-of-type {\n",
       "        vertical-align: middle;\n",
       "    }\n",
       "\n",
       "    .dataframe tbody tr th {\n",
       "        vertical-align: top;\n",
       "    }\n",
       "\n",
       "    .dataframe thead th {\n",
       "        text-align: right;\n",
       "    }\n",
       "</style>\n",
       "<table border=\"1\" class=\"dataframe\">\n",
       "  <thead>\n",
       "    <tr style=\"text-align: right;\">\n",
       "      <th></th>\n",
       "      <th>id</th>\n",
       "      <th>titles</th>\n",
       "      <th>genre</th>\n",
       "    </tr>\n",
       "  </thead>\n",
       "  <tbody>\n",
       "    <tr>\n",
       "      <th>0</th>\n",
       "      <td>485</td>\n",
       "      <td>Damekko Doubutsu</td>\n",
       "      <td>Comedy</td>\n",
       "    </tr>\n",
       "    <tr>\n",
       "      <th>1</th>\n",
       "      <td>580</td>\n",
       "      <td>Kogepan</td>\n",
       "      <td>Comedy</td>\n",
       "    </tr>\n",
       "    <tr>\n",
       "      <th>2</th>\n",
       "      <td>673</td>\n",
       "      <td>Mai-HiME Specials</td>\n",
       "      <td>Comedy</td>\n",
       "    </tr>\n",
       "    <tr>\n",
       "      <th>3</th>\n",
       "      <td>748</td>\n",
       "      <td>True Love Story</td>\n",
       "      <td>Romance</td>\n",
       "    </tr>\n",
       "    <tr>\n",
       "      <th>4</th>\n",
       "      <td>983</td>\n",
       "      <td>Cosplay Complex: Extra Identification</td>\n",
       "      <td>Comedy</td>\n",
       "    </tr>\n",
       "    <tr>\n",
       "      <th>...</th>\n",
       "      <td>...</td>\n",
       "      <td>...</td>\n",
       "      <td>...</td>\n",
       "    </tr>\n",
       "    <tr>\n",
       "      <th>1138</th>\n",
       "      <td>34324</td>\n",
       "      <td>Chiryokumaru</td>\n",
       "      <td>Action</td>\n",
       "    </tr>\n",
       "    <tr>\n",
       "      <th>1139</th>\n",
       "      <td>34453</td>\n",
       "      <td>Uma Musume: Pretty Derby</td>\n",
       "      <td>Action</td>\n",
       "    </tr>\n",
       "    <tr>\n",
       "      <th>1140</th>\n",
       "      <td>34490</td>\n",
       "      <td>Sushi Azarashi</td>\n",
       "      <td>Comedy</td>\n",
       "    </tr>\n",
       "    <tr>\n",
       "      <th>1141</th>\n",
       "      <td>34503</td>\n",
       "      <td>Kochinpa! Dainiki</td>\n",
       "      <td>Comedy</td>\n",
       "    </tr>\n",
       "    <tr>\n",
       "      <th>1142</th>\n",
       "      <td>34519</td>\n",
       "      <td>Mobile Suit Gakuen: G-Reco Koushien</td>\n",
       "      <td>Comedy</td>\n",
       "    </tr>\n",
       "  </tbody>\n",
       "</table>\n",
       "<p>1143 rows × 3 columns</p>\n",
       "</div>"
      ],
      "text/plain": [
       "         id                                 titles    genre\n",
       "0       485                       Damekko Doubutsu   Comedy\n",
       "1       580                                Kogepan   Comedy\n",
       "2       673                      Mai-HiME Specials   Comedy\n",
       "3       748                        True Love Story  Romance\n",
       "4       983  Cosplay Complex: Extra Identification   Comedy\n",
       "...     ...                                    ...      ...\n",
       "1138  34324                           Chiryokumaru   Action\n",
       "1139  34453               Uma Musume: Pretty Derby   Action\n",
       "1140  34490                         Sushi Azarashi   Comedy\n",
       "1141  34503                      Kochinpa! Dainiki   Comedy\n",
       "1142  34519    Mobile Suit Gakuen: G-Reco Koushien   Comedy\n",
       "\n",
       "[1143 rows x 3 columns]"
      ]
     },
     "execution_count": 35,
     "metadata": {},
     "output_type": "execute_result"
    }
   ],
   "source": [
    "anime_new = pd.DataFrame({\n",
    "    'id': animeID,\n",
    "    'titles': title,\n",
    "    'genre': genres\n",
    "})\n",
    "anime_new     "
   ]
  },
  {
   "cell_type": "code",
   "execution_count": 36,
   "metadata": {
    "colab": {
     "base_uri": "https://localhost:8080/",
     "height": 206
    },
    "id": "s9Aed5OeqlLM",
    "outputId": "48ee6964-c37f-4921-aa5d-61c47cf03a67"
   },
   "outputs": [
    {
     "data": {
      "text/html": [
       "<div>\n",
       "<style scoped>\n",
       "    .dataframe tbody tr th:only-of-type {\n",
       "        vertical-align: middle;\n",
       "    }\n",
       "\n",
       "    .dataframe tbody tr th {\n",
       "        vertical-align: top;\n",
       "    }\n",
       "\n",
       "    .dataframe thead th {\n",
       "        text-align: right;\n",
       "    }\n",
       "</style>\n",
       "<table border=\"1\" class=\"dataframe\">\n",
       "  <thead>\n",
       "    <tr style=\"text-align: right;\">\n",
       "      <th></th>\n",
       "      <th>id</th>\n",
       "      <th>titles</th>\n",
       "      <th>genre</th>\n",
       "    </tr>\n",
       "  </thead>\n",
       "  <tbody>\n",
       "    <tr>\n",
       "      <th>634</th>\n",
       "      <td>17092</td>\n",
       "      <td>Dallyeola Hani</td>\n",
       "      <td>Sports</td>\n",
       "    </tr>\n",
       "    <tr>\n",
       "      <th>659</th>\n",
       "      <td>18133</td>\n",
       "      <td>Ikeike! Momon-chan</td>\n",
       "      <td>Comedy</td>\n",
       "    </tr>\n",
       "    <tr>\n",
       "      <th>75</th>\n",
       "      <td>3267</td>\n",
       "      <td>Kingdom of Chaos: Born to Kill</td>\n",
       "      <td>Fantasy</td>\n",
       "    </tr>\n",
       "    <tr>\n",
       "      <th>867</th>\n",
       "      <td>29756</td>\n",
       "      <td>Sinbad: Soratobu Hime to Himitsu no Shima</td>\n",
       "      <td>Adventure</td>\n",
       "    </tr>\n",
       "    <tr>\n",
       "      <th>585</th>\n",
       "      <td>13553</td>\n",
       "      <td>Bakusou Circuit Roman Twin</td>\n",
       "      <td>Sports</td>\n",
       "    </tr>\n",
       "  </tbody>\n",
       "</table>\n",
       "</div>"
      ],
      "text/plain": [
       "        id                                     titles      genre\n",
       "634  17092                             Dallyeola Hani     Sports\n",
       "659  18133                         Ikeike! Momon-chan     Comedy\n",
       "75    3267             Kingdom of Chaos: Born to Kill    Fantasy\n",
       "867  29756  Sinbad: Soratobu Hime to Himitsu no Shima  Adventure\n",
       "585  13553                 Bakusou Circuit Roman Twin     Sports"
      ]
     },
     "execution_count": 36,
     "metadata": {},
     "output_type": "execute_result"
    }
   ],
   "source": [
    "# Melihat sampel data\n",
    "data = anime_new\n",
    "data.sample(5)"
   ]
  },
  {
   "cell_type": "markdown",
   "metadata": {
    "id": "1BFzQGc-_-Z4"
   },
   "source": [
    "**Modelling**"
   ]
  },
  {
   "cell_type": "markdown",
   "metadata": {
    "id": "owyogeUjCNAN"
   },
   "source": [
    "**Inisialisasi TfidfVectorizer, melakukan perhitungan idf dan mapping array**"
   ]
  },
  {
   "cell_type": "code",
   "execution_count": 37,
   "metadata": {
    "colab": {
     "base_uri": "https://localhost:8080/"
    },
    "id": "1sKrxwYRqtcA",
    "outputId": "1b86b3d6-1dae-427e-b26d-ce246324c788"
   },
   "outputs": [
    {
     "name": "stderr",
     "output_type": "stream",
     "text": [
      "C:\\Users\\Admin\\anaconda3\\lib\\site-packages\\sklearn\\utils\\deprecation.py:87: FutureWarning: Function get_feature_names is deprecated; get_feature_names is deprecated in 1.0 and will be removed in 1.2. Please use get_feature_names_out instead.\n",
      "  warnings.warn(msg, category=FutureWarning)\n"
     ]
    },
    {
     "data": {
      "text/plain": [
       "['action',\n",
       " 'adventure',\n",
       " 'comedy',\n",
       " 'drama',\n",
       " 'fantasy',\n",
       " 'historical',\n",
       " 'horror',\n",
       " 'life',\n",
       " 'mystery',\n",
       " 'of',\n",
       " 'romance',\n",
       " 'slice',\n",
       " 'sports',\n",
       " 'supernatural']"
      ]
     },
     "execution_count": 37,
     "metadata": {},
     "output_type": "execute_result"
    }
   ],
   "source": [
    "tf = TfidfVectorizer()\n",
    " \n",
    "tf.fit(data['genre']) \n",
    " \n",
    "# Mapping array dari fitur index integer ke fitur nama\n",
    "tf.get_feature_names() "
   ]
  },
  {
   "cell_type": "markdown",
   "metadata": {
    "id": "bhO8LjuMCofm"
   },
   "source": [
    "**Melakukan fitment dan transformasi ke bentuk matrix**"
   ]
  },
  {
   "cell_type": "code",
   "execution_count": 38,
   "metadata": {
    "colab": {
     "base_uri": "https://localhost:8080/"
    },
    "id": "O6OAP3e8qyf6",
    "outputId": "6dcf97d2-bbab-4fb5-fc08-4b4c0399744a"
   },
   "outputs": [
    {
     "data": {
      "text/plain": [
       "(1143, 14)"
      ]
     },
     "execution_count": 38,
     "metadata": {},
     "output_type": "execute_result"
    }
   ],
   "source": [
    "tfidf_matrix = tf.fit_transform(data['genre']) \n",
    "\n",
    "# Melihat jumlah baris & data matrix tfidf\n",
    "tfidf_matrix.shape "
   ]
  },
  {
   "cell_type": "markdown",
   "metadata": {
    "id": "-366NqaKCymQ"
   },
   "source": [
    "Mengubah vektor Tfidf dalam bentuk matriks dengan fungsi todense"
   ]
  },
  {
   "cell_type": "code",
   "execution_count": 39,
   "metadata": {
    "colab": {
     "base_uri": "https://localhost:8080/"
    },
    "id": "CoGg8v-Hsqna",
    "outputId": "af6b168c-096c-4a15-9c4e-702b619f80f0"
   },
   "outputs": [
    {
     "data": {
      "text/plain": [
       "matrix([[0., 0., 1., ..., 0., 0., 0.],\n",
       "        [0., 0., 1., ..., 0., 0., 0.],\n",
       "        [0., 0., 1., ..., 0., 0., 0.],\n",
       "        ...,\n",
       "        [0., 0., 1., ..., 0., 0., 0.],\n",
       "        [0., 0., 1., ..., 0., 0., 0.],\n",
       "        [0., 0., 1., ..., 0., 0., 0.]])"
      ]
     },
     "execution_count": 39,
     "metadata": {},
     "output_type": "execute_result"
    }
   ],
   "source": [
    "tfidf_matrix.todense()"
   ]
  },
  {
   "cell_type": "markdown",
   "metadata": {
    "id": "TvvzDhedC9pX"
   },
   "source": [
    "Membuat dataframe dengan konten baris berisi fitur titles dan kolom berisi fitur genre"
   ]
  },
  {
   "cell_type": "code",
   "execution_count": 40,
   "metadata": {
    "colab": {
     "base_uri": "https://localhost:8080/",
     "height": 490
    },
    "id": "LQtDS5u1ssUf",
    "outputId": "b4f18335-0e71-4f8a-fd55-3f0be88fd455"
   },
   "outputs": [
    {
     "data": {
      "text/html": [
       "<div>\n",
       "<style scoped>\n",
       "    .dataframe tbody tr th:only-of-type {\n",
       "        vertical-align: middle;\n",
       "    }\n",
       "\n",
       "    .dataframe tbody tr th {\n",
       "        vertical-align: top;\n",
       "    }\n",
       "\n",
       "    .dataframe thead th {\n",
       "        text-align: right;\n",
       "    }\n",
       "</style>\n",
       "<table border=\"1\" class=\"dataframe\">\n",
       "  <thead>\n",
       "    <tr style=\"text-align: right;\">\n",
       "      <th></th>\n",
       "      <th>supernatural</th>\n",
       "      <th>horror</th>\n",
       "      <th>sports</th>\n",
       "      <th>historical</th>\n",
       "      <th>adventure</th>\n",
       "      <th>mystery</th>\n",
       "      <th>of</th>\n",
       "      <th>life</th>\n",
       "      <th>drama</th>\n",
       "      <th>fantasy</th>\n",
       "      <th>slice</th>\n",
       "      <th>comedy</th>\n",
       "    </tr>\n",
       "    <tr>\n",
       "      <th>titles</th>\n",
       "      <th></th>\n",
       "      <th></th>\n",
       "      <th></th>\n",
       "      <th></th>\n",
       "      <th></th>\n",
       "      <th></th>\n",
       "      <th></th>\n",
       "      <th></th>\n",
       "      <th></th>\n",
       "      <th></th>\n",
       "      <th></th>\n",
       "      <th></th>\n",
       "    </tr>\n",
       "  </thead>\n",
       "  <tbody>\n",
       "    <tr>\n",
       "      <th>Hula Kappa</th>\n",
       "      <td>0.0</td>\n",
       "      <td>0.0</td>\n",
       "      <td>0.0</td>\n",
       "      <td>0.0</td>\n",
       "      <td>0.0</td>\n",
       "      <td>0.0</td>\n",
       "      <td>0.00000</td>\n",
       "      <td>0.00000</td>\n",
       "      <td>0.0</td>\n",
       "      <td>0.0</td>\n",
       "      <td>0.00000</td>\n",
       "      <td>1.0</td>\n",
       "    </tr>\n",
       "    <tr>\n",
       "      <th>Kachikachi Yama (1940)</th>\n",
       "      <td>0.0</td>\n",
       "      <td>0.0</td>\n",
       "      <td>0.0</td>\n",
       "      <td>0.0</td>\n",
       "      <td>0.0</td>\n",
       "      <td>0.0</td>\n",
       "      <td>0.00000</td>\n",
       "      <td>0.00000</td>\n",
       "      <td>0.0</td>\n",
       "      <td>1.0</td>\n",
       "      <td>0.00000</td>\n",
       "      <td>0.0</td>\n",
       "    </tr>\n",
       "    <tr>\n",
       "      <th>KochinPa!</th>\n",
       "      <td>0.0</td>\n",
       "      <td>0.0</td>\n",
       "      <td>0.0</td>\n",
       "      <td>0.0</td>\n",
       "      <td>0.0</td>\n",
       "      <td>0.0</td>\n",
       "      <td>0.00000</td>\n",
       "      <td>0.00000</td>\n",
       "      <td>0.0</td>\n",
       "      <td>0.0</td>\n",
       "      <td>0.00000</td>\n",
       "      <td>1.0</td>\n",
       "    </tr>\n",
       "    <tr>\n",
       "      <th>Sinbad: Mahou no Lamp to Ugoku Shima</th>\n",
       "      <td>0.0</td>\n",
       "      <td>0.0</td>\n",
       "      <td>0.0</td>\n",
       "      <td>0.0</td>\n",
       "      <td>1.0</td>\n",
       "      <td>0.0</td>\n",
       "      <td>0.00000</td>\n",
       "      <td>0.00000</td>\n",
       "      <td>0.0</td>\n",
       "      <td>0.0</td>\n",
       "      <td>0.00000</td>\n",
       "      <td>0.0</td>\n",
       "    </tr>\n",
       "    <tr>\n",
       "      <th>Kamisama Dolls Specials</th>\n",
       "      <td>0.0</td>\n",
       "      <td>0.0</td>\n",
       "      <td>0.0</td>\n",
       "      <td>0.0</td>\n",
       "      <td>0.0</td>\n",
       "      <td>0.0</td>\n",
       "      <td>0.00000</td>\n",
       "      <td>0.00000</td>\n",
       "      <td>0.0</td>\n",
       "      <td>0.0</td>\n",
       "      <td>0.00000</td>\n",
       "      <td>1.0</td>\n",
       "    </tr>\n",
       "    <tr>\n",
       "      <th>Hanaori</th>\n",
       "      <td>0.0</td>\n",
       "      <td>0.0</td>\n",
       "      <td>0.0</td>\n",
       "      <td>0.0</td>\n",
       "      <td>0.0</td>\n",
       "      <td>0.0</td>\n",
       "      <td>0.00000</td>\n",
       "      <td>0.00000</td>\n",
       "      <td>0.0</td>\n",
       "      <td>0.0</td>\n",
       "      <td>0.00000</td>\n",
       "      <td>1.0</td>\n",
       "    </tr>\n",
       "    <tr>\n",
       "      <th>Ore wa Chokkaku</th>\n",
       "      <td>0.0</td>\n",
       "      <td>0.0</td>\n",
       "      <td>0.0</td>\n",
       "      <td>0.0</td>\n",
       "      <td>0.0</td>\n",
       "      <td>0.0</td>\n",
       "      <td>0.00000</td>\n",
       "      <td>0.00000</td>\n",
       "      <td>0.0</td>\n",
       "      <td>0.0</td>\n",
       "      <td>0.00000</td>\n",
       "      <td>1.0</td>\n",
       "    </tr>\n",
       "    <tr>\n",
       "      <th>Sylvanian Families Mini Gekijou: Omoigakenai Okyakusama</th>\n",
       "      <td>0.0</td>\n",
       "      <td>0.0</td>\n",
       "      <td>0.0</td>\n",
       "      <td>0.0</td>\n",
       "      <td>0.0</td>\n",
       "      <td>0.0</td>\n",
       "      <td>0.57735</td>\n",
       "      <td>0.57735</td>\n",
       "      <td>0.0</td>\n",
       "      <td>0.0</td>\n",
       "      <td>0.57735</td>\n",
       "      <td>0.0</td>\n",
       "    </tr>\n",
       "    <tr>\n",
       "      <th>Hana no Hanashi</th>\n",
       "      <td>0.0</td>\n",
       "      <td>0.0</td>\n",
       "      <td>0.0</td>\n",
       "      <td>0.0</td>\n",
       "      <td>0.0</td>\n",
       "      <td>0.0</td>\n",
       "      <td>0.57735</td>\n",
       "      <td>0.57735</td>\n",
       "      <td>0.0</td>\n",
       "      <td>0.0</td>\n",
       "      <td>0.57735</td>\n",
       "      <td>0.0</td>\n",
       "    </tr>\n",
       "    <tr>\n",
       "      <th>Eiyuu Gaiden Mozaicka</th>\n",
       "      <td>0.0</td>\n",
       "      <td>0.0</td>\n",
       "      <td>0.0</td>\n",
       "      <td>0.0</td>\n",
       "      <td>0.0</td>\n",
       "      <td>0.0</td>\n",
       "      <td>0.00000</td>\n",
       "      <td>0.00000</td>\n",
       "      <td>0.0</td>\n",
       "      <td>1.0</td>\n",
       "      <td>0.00000</td>\n",
       "      <td>0.0</td>\n",
       "    </tr>\n",
       "  </tbody>\n",
       "</table>\n",
       "</div>"
      ],
      "text/plain": [
       "                                                    supernatural  horror  \\\n",
       "titles                                                                     \n",
       "Hula Kappa                                                   0.0     0.0   \n",
       "Kachikachi Yama (1940)                                       0.0     0.0   \n",
       "KochinPa!                                                    0.0     0.0   \n",
       "Sinbad: Mahou no Lamp to Ugoku Shima                         0.0     0.0   \n",
       "Kamisama Dolls Specials                                      0.0     0.0   \n",
       "Hanaori                                                      0.0     0.0   \n",
       "Ore wa Chokkaku                                              0.0     0.0   \n",
       "Sylvanian Families Mini Gekijou: Omoigakenai Ok...           0.0     0.0   \n",
       "Hana no Hanashi                                              0.0     0.0   \n",
       "Eiyuu Gaiden Mozaicka                                        0.0     0.0   \n",
       "\n",
       "                                                    sports  historical  \\\n",
       "titles                                                                   \n",
       "Hula Kappa                                             0.0         0.0   \n",
       "Kachikachi Yama (1940)                                 0.0         0.0   \n",
       "KochinPa!                                              0.0         0.0   \n",
       "Sinbad: Mahou no Lamp to Ugoku Shima                   0.0         0.0   \n",
       "Kamisama Dolls Specials                                0.0         0.0   \n",
       "Hanaori                                                0.0         0.0   \n",
       "Ore wa Chokkaku                                        0.0         0.0   \n",
       "Sylvanian Families Mini Gekijou: Omoigakenai Ok...     0.0         0.0   \n",
       "Hana no Hanashi                                        0.0         0.0   \n",
       "Eiyuu Gaiden Mozaicka                                  0.0         0.0   \n",
       "\n",
       "                                                    adventure  mystery  \\\n",
       "titles                                                                   \n",
       "Hula Kappa                                                0.0      0.0   \n",
       "Kachikachi Yama (1940)                                    0.0      0.0   \n",
       "KochinPa!                                                 0.0      0.0   \n",
       "Sinbad: Mahou no Lamp to Ugoku Shima                      1.0      0.0   \n",
       "Kamisama Dolls Specials                                   0.0      0.0   \n",
       "Hanaori                                                   0.0      0.0   \n",
       "Ore wa Chokkaku                                           0.0      0.0   \n",
       "Sylvanian Families Mini Gekijou: Omoigakenai Ok...        0.0      0.0   \n",
       "Hana no Hanashi                                           0.0      0.0   \n",
       "Eiyuu Gaiden Mozaicka                                     0.0      0.0   \n",
       "\n",
       "                                                         of     life  drama  \\\n",
       "titles                                                                        \n",
       "Hula Kappa                                          0.00000  0.00000    0.0   \n",
       "Kachikachi Yama (1940)                              0.00000  0.00000    0.0   \n",
       "KochinPa!                                           0.00000  0.00000    0.0   \n",
       "Sinbad: Mahou no Lamp to Ugoku Shima                0.00000  0.00000    0.0   \n",
       "Kamisama Dolls Specials                             0.00000  0.00000    0.0   \n",
       "Hanaori                                             0.00000  0.00000    0.0   \n",
       "Ore wa Chokkaku                                     0.00000  0.00000    0.0   \n",
       "Sylvanian Families Mini Gekijou: Omoigakenai Ok...  0.57735  0.57735    0.0   \n",
       "Hana no Hanashi                                     0.57735  0.57735    0.0   \n",
       "Eiyuu Gaiden Mozaicka                               0.00000  0.00000    0.0   \n",
       "\n",
       "                                                    fantasy    slice  comedy  \n",
       "titles                                                                        \n",
       "Hula Kappa                                              0.0  0.00000     1.0  \n",
       "Kachikachi Yama (1940)                                  1.0  0.00000     0.0  \n",
       "KochinPa!                                               0.0  0.00000     1.0  \n",
       "Sinbad: Mahou no Lamp to Ugoku Shima                    0.0  0.00000     0.0  \n",
       "Kamisama Dolls Specials                                 0.0  0.00000     1.0  \n",
       "Hanaori                                                 0.0  0.00000     1.0  \n",
       "Ore wa Chokkaku                                         0.0  0.00000     1.0  \n",
       "Sylvanian Families Mini Gekijou: Omoigakenai Ok...      0.0  0.57735     0.0  \n",
       "Hana no Hanashi                                         0.0  0.57735     0.0  \n",
       "Eiyuu Gaiden Mozaicka                                   1.0  0.00000     0.0  "
      ]
     },
     "execution_count": 40,
     "metadata": {},
     "output_type": "execute_result"
    }
   ],
   "source": [
    "pd.DataFrame(\n",
    "    tfidf_matrix.todense(), \n",
    "    columns=tf.get_feature_names(),\n",
    "    index=data.titles\n",
    ").sample(12, axis=1).sample(10, axis=0)"
   ]
  },
  {
   "cell_type": "markdown",
   "metadata": {
    "id": "qG8N1fUODKKI"
   },
   "source": [
    "**Menghitung cosine similarity**"
   ]
  },
  {
   "cell_type": "code",
   "execution_count": 41,
   "metadata": {
    "colab": {
     "base_uri": "https://localhost:8080/"
    },
    "id": "vlcLlJvAs66U",
    "outputId": "a2b4ff09-fa5c-4ba5-d486-3eba66d2a502"
   },
   "outputs": [
    {
     "data": {
      "text/plain": [
       "array([[1., 1., 1., ..., 1., 1., 1.],\n",
       "       [1., 1., 1., ..., 1., 1., 1.],\n",
       "       [1., 1., 1., ..., 1., 1., 1.],\n",
       "       ...,\n",
       "       [1., 1., 1., ..., 1., 1., 1.],\n",
       "       [1., 1., 1., ..., 1., 1., 1.],\n",
       "       [1., 1., 1., ..., 1., 1., 1.]])"
      ]
     },
     "execution_count": 41,
     "metadata": {},
     "output_type": "execute_result"
    }
   ],
   "source": [
    "cosine_sim = cosine_similarity(tfidf_matrix) \n",
    "cosine_sim"
   ]
  },
  {
   "cell_type": "markdown",
   "metadata": {
    "id": "Fe2f61PAEBWj"
   },
   "source": [
    "Membuat dataframe dan meihat cosine similarity"
   ]
  },
  {
   "cell_type": "code",
   "execution_count": 42,
   "metadata": {
    "colab": {
     "base_uri": "https://localhost:8080/",
     "height": 525
    },
    "id": "VU3xG4GOtYkG",
    "outputId": "16171311-8774-456c-b9ac-0fc2497d0c0a"
   },
   "outputs": [
    {
     "name": "stdout",
     "output_type": "stream",
     "text": [
      "Shape: (1143, 1143)\n"
     ]
    },
    {
     "data": {
      "text/html": [
       "<div>\n",
       "<style scoped>\n",
       "    .dataframe tbody tr th:only-of-type {\n",
       "        vertical-align: middle;\n",
       "    }\n",
       "\n",
       "    .dataframe tbody tr th {\n",
       "        vertical-align: top;\n",
       "    }\n",
       "\n",
       "    .dataframe thead th {\n",
       "        text-align: right;\n",
       "    }\n",
       "</style>\n",
       "<table border=\"1\" class=\"dataframe\">\n",
       "  <thead>\n",
       "    <tr style=\"text-align: right;\">\n",
       "      <th>titles</th>\n",
       "      <th>Shuukan Shimakou Special</th>\n",
       "      <th>Senjou no Valkyria: SenVal Theater</th>\n",
       "      <th>Hitori de Nayamanaide Issho ni Kangaeyou</th>\n",
       "      <th>Asu wo Tsukutta Otoko: Tanabe Sakurou to Biwako Sosui</th>\n",
       "      <th>Utsurun Desu.</th>\n",
       "    </tr>\n",
       "    <tr>\n",
       "      <th>titles</th>\n",
       "      <th></th>\n",
       "      <th></th>\n",
       "      <th></th>\n",
       "      <th></th>\n",
       "      <th></th>\n",
       "    </tr>\n",
       "  </thead>\n",
       "  <tbody>\n",
       "    <tr>\n",
       "      <th>Forza! Hidemaru</th>\n",
       "      <td>0.0</td>\n",
       "      <td>0.0</td>\n",
       "      <td>0.0</td>\n",
       "      <td>0.0</td>\n",
       "      <td>0.0</td>\n",
       "    </tr>\n",
       "    <tr>\n",
       "      <th>Melody</th>\n",
       "      <td>0.0</td>\n",
       "      <td>0.0</td>\n",
       "      <td>1.0</td>\n",
       "      <td>0.0</td>\n",
       "      <td>0.0</td>\n",
       "    </tr>\n",
       "    <tr>\n",
       "      <th>Lovely Movie: Itoshi no Muco</th>\n",
       "      <td>0.0</td>\n",
       "      <td>0.0</td>\n",
       "      <td>0.0</td>\n",
       "      <td>0.0</td>\n",
       "      <td>0.0</td>\n",
       "    </tr>\n",
       "    <tr>\n",
       "      <th>Utsurun Desu.</th>\n",
       "      <td>1.0</td>\n",
       "      <td>1.0</td>\n",
       "      <td>0.0</td>\n",
       "      <td>0.0</td>\n",
       "      <td>1.0</td>\n",
       "    </tr>\n",
       "    <tr>\n",
       "      <th>Persona 3 the Movie Meets “Walkman”</th>\n",
       "      <td>0.0</td>\n",
       "      <td>0.0</td>\n",
       "      <td>1.0</td>\n",
       "      <td>0.0</td>\n",
       "      <td>0.0</td>\n",
       "    </tr>\n",
       "    <tr>\n",
       "      <th>Yuki no Yo no Yume</th>\n",
       "      <td>0.0</td>\n",
       "      <td>0.0</td>\n",
       "      <td>1.0</td>\n",
       "      <td>0.0</td>\n",
       "      <td>0.0</td>\n",
       "    </tr>\n",
       "    <tr>\n",
       "      <th>Rose O&amp;#039;Neill Kewpie</th>\n",
       "      <td>1.0</td>\n",
       "      <td>1.0</td>\n",
       "      <td>0.0</td>\n",
       "      <td>0.0</td>\n",
       "      <td>1.0</td>\n",
       "    </tr>\n",
       "    <tr>\n",
       "      <th>Show By Rock!!: Plasmagica na Gogo</th>\n",
       "      <td>1.0</td>\n",
       "      <td>1.0</td>\n",
       "      <td>0.0</td>\n",
       "      <td>0.0</td>\n",
       "      <td>1.0</td>\n",
       "    </tr>\n",
       "    <tr>\n",
       "      <th>Nyanpuku Nyaruma</th>\n",
       "      <td>1.0</td>\n",
       "      <td>1.0</td>\n",
       "      <td>0.0</td>\n",
       "      <td>0.0</td>\n",
       "      <td>1.0</td>\n",
       "    </tr>\n",
       "    <tr>\n",
       "      <th>Marie &amp;amp; Gali Special</th>\n",
       "      <td>1.0</td>\n",
       "      <td>1.0</td>\n",
       "      <td>0.0</td>\n",
       "      <td>0.0</td>\n",
       "      <td>1.0</td>\n",
       "    </tr>\n",
       "  </tbody>\n",
       "</table>\n",
       "</div>"
      ],
      "text/plain": [
       "titles                               Shuukan Shimakou Special  \\\n",
       "titles                                                          \n",
       "Forza! Hidemaru                                           0.0   \n",
       "Melody                                                    0.0   \n",
       "Lovely Movie: Itoshi no Muco                              0.0   \n",
       "Utsurun Desu.                                             1.0   \n",
       "Persona 3 the Movie Meets “Walkman”                       0.0   \n",
       "Yuki no Yo no Yume                                        0.0   \n",
       "Rose O&#039;Neill Kewpie                                  1.0   \n",
       "Show By Rock!!: Plasmagica na Gogo                        1.0   \n",
       "Nyanpuku Nyaruma                                          1.0   \n",
       "Marie &amp; Gali Special                                  1.0   \n",
       "\n",
       "titles                               Senjou no Valkyria: SenVal Theater  \\\n",
       "titles                                                                    \n",
       "Forza! Hidemaru                                                     0.0   \n",
       "Melody                                                              0.0   \n",
       "Lovely Movie: Itoshi no Muco                                        0.0   \n",
       "Utsurun Desu.                                                       1.0   \n",
       "Persona 3 the Movie Meets “Walkman”                                 0.0   \n",
       "Yuki no Yo no Yume                                                  0.0   \n",
       "Rose O&#039;Neill Kewpie                                            1.0   \n",
       "Show By Rock!!: Plasmagica na Gogo                                  1.0   \n",
       "Nyanpuku Nyaruma                                                    1.0   \n",
       "Marie &amp; Gali Special                                            1.0   \n",
       "\n",
       "titles                               Hitori de Nayamanaide Issho ni Kangaeyou  \\\n",
       "titles                                                                          \n",
       "Forza! Hidemaru                                                           0.0   \n",
       "Melody                                                                    1.0   \n",
       "Lovely Movie: Itoshi no Muco                                              0.0   \n",
       "Utsurun Desu.                                                             0.0   \n",
       "Persona 3 the Movie Meets “Walkman”                                       1.0   \n",
       "Yuki no Yo no Yume                                                        1.0   \n",
       "Rose O&#039;Neill Kewpie                                                  0.0   \n",
       "Show By Rock!!: Plasmagica na Gogo                                        0.0   \n",
       "Nyanpuku Nyaruma                                                          0.0   \n",
       "Marie &amp; Gali Special                                                  0.0   \n",
       "\n",
       "titles                               Asu wo Tsukutta Otoko: Tanabe Sakurou to Biwako Sosui  \\\n",
       "titles                                                                                       \n",
       "Forza! Hidemaru                                                                    0.0       \n",
       "Melody                                                                             0.0       \n",
       "Lovely Movie: Itoshi no Muco                                                       0.0       \n",
       "Utsurun Desu.                                                                      0.0       \n",
       "Persona 3 the Movie Meets “Walkman”                                                0.0       \n",
       "Yuki no Yo no Yume                                                                 0.0       \n",
       "Rose O&#039;Neill Kewpie                                                           0.0       \n",
       "Show By Rock!!: Plasmagica na Gogo                                                 0.0       \n",
       "Nyanpuku Nyaruma                                                                   0.0       \n",
       "Marie &amp; Gali Special                                                           0.0       \n",
       "\n",
       "titles                               Utsurun Desu.  \n",
       "titles                                              \n",
       "Forza! Hidemaru                                0.0  \n",
       "Melody                                         0.0  \n",
       "Lovely Movie: Itoshi no Muco                   0.0  \n",
       "Utsurun Desu.                                  1.0  \n",
       "Persona 3 the Movie Meets “Walkman”            0.0  \n",
       "Yuki no Yo no Yume                             0.0  \n",
       "Rose O&#039;Neill Kewpie                       1.0  \n",
       "Show By Rock!!: Plasmagica na Gogo             1.0  \n",
       "Nyanpuku Nyaruma                               1.0  \n",
       "Marie &amp; Gali Special                       1.0  "
      ]
     },
     "execution_count": 42,
     "metadata": {},
     "output_type": "execute_result"
    }
   ],
   "source": [
    "cosine_sim_df = pd.DataFrame(cosine_sim, index=data['titles'], columns=data['titles'])\n",
    "print('Shape:', cosine_sim_df.shape)\n",
    " \n",
    "cosine_sim_df.sample(5, axis=1).sample(10, axis=0)"
   ]
  },
  {
   "cell_type": "markdown",
   "metadata": {
    "id": "hpDCaJRtEd-b"
   },
   "source": [
    "**Mengambil data dengan menggunakan argpartition**"
   ]
  },
  {
   "cell_type": "code",
   "execution_count": 43,
   "metadata": {
    "id": "bLwg7fimt2_L"
   },
   "outputs": [],
   "source": [
    "def animes_recommendations(titles, similarity_data=cosine_sim_df, items=data[['titles', 'genre']], k=10): \n",
    "    # Dataframe -> numpy\n",
    "    # Range start, stop, step\n",
    "    index = similarity_data.loc[:,titles].to_numpy().argpartition(\n",
    "        range(-1, -k, -1))\n",
    "    \n",
    "    # Mengambil data dengan similarity terbesar\n",
    "    closest = similarity_data.columns[index[-1:-(k+2):-1]]\n",
    "    \n",
    "    # drop titles agar nama konten yang dicari tidak muncul dalam daftar rekomendasi\n",
    "    closest = closest.drop(titles, errors='ignore')\n",
    " \n",
    "    return pd.DataFrame(closest).merge(items).head(k)"
   ]
  },
  {
   "cell_type": "markdown",
   "metadata": {
    "id": "C6drQDGfAS_r"
   },
   "source": [
    "**Result**"
   ]
  },
  {
   "cell_type": "markdown",
   "metadata": {
    "id": "8-BhPw-bEs88"
   },
   "source": [
    "**Menguji model sistem rekomendasi**"
   ]
  },
  {
   "cell_type": "code",
   "execution_count": 44,
   "metadata": {
    "colab": {
     "base_uri": "https://localhost:8080/",
     "height": 81
    },
    "id": "AKkbOgz-s-kj",
    "outputId": "c724b47b-9fcc-4fdd-da33-7433f8f329f2"
   },
   "outputs": [
    {
     "data": {
      "text/html": [
       "<div>\n",
       "<style scoped>\n",
       "    .dataframe tbody tr th:only-of-type {\n",
       "        vertical-align: middle;\n",
       "    }\n",
       "\n",
       "    .dataframe tbody tr th {\n",
       "        vertical-align: top;\n",
       "    }\n",
       "\n",
       "    .dataframe thead th {\n",
       "        text-align: right;\n",
       "    }\n",
       "</style>\n",
       "<table border=\"1\" class=\"dataframe\">\n",
       "  <thead>\n",
       "    <tr style=\"text-align: right;\">\n",
       "      <th></th>\n",
       "      <th>id</th>\n",
       "      <th>titles</th>\n",
       "      <th>genre</th>\n",
       "    </tr>\n",
       "  </thead>\n",
       "  <tbody>\n",
       "    <tr>\n",
       "      <th>118</th>\n",
       "      <td>4099</td>\n",
       "      <td>Wolf Daddy</td>\n",
       "      <td>Fantasy</td>\n",
       "    </tr>\n",
       "  </tbody>\n",
       "</table>\n",
       "</div>"
      ],
      "text/plain": [
       "       id      titles    genre\n",
       "118  4099  Wolf Daddy  Fantasy"
      ]
     },
     "execution_count": 44,
     "metadata": {},
     "output_type": "execute_result"
    }
   ],
   "source": [
    "titles = 'Wolf Daddy'\n",
    "data[data.titles.eq(titles)]"
   ]
  },
  {
   "cell_type": "markdown",
   "metadata": {
    "id": "5OOA0NltE2cN"
   },
   "source": [
    "Hasil rekomendasi yang didapatkan"
   ]
  },
  {
   "cell_type": "code",
   "execution_count": 45,
   "metadata": {
    "colab": {
     "base_uri": "https://localhost:8080/",
     "height": 363
    },
    "id": "YTngjUTVuI7c",
    "outputId": "3ae6f743-c4b1-47d6-97cd-9d3e869e8b1c"
   },
   "outputs": [
    {
     "data": {
      "text/html": [
       "<div>\n",
       "<style scoped>\n",
       "    .dataframe tbody tr th:only-of-type {\n",
       "        vertical-align: middle;\n",
       "    }\n",
       "\n",
       "    .dataframe tbody tr th {\n",
       "        vertical-align: top;\n",
       "    }\n",
       "\n",
       "    .dataframe thead th {\n",
       "        text-align: right;\n",
       "    }\n",
       "</style>\n",
       "<table border=\"1\" class=\"dataframe\">\n",
       "  <thead>\n",
       "    <tr style=\"text-align: right;\">\n",
       "      <th></th>\n",
       "      <th>titles</th>\n",
       "      <th>genre</th>\n",
       "    </tr>\n",
       "  </thead>\n",
       "  <tbody>\n",
       "    <tr>\n",
       "      <th>0</th>\n",
       "      <td>Shiawasette Naani</td>\n",
       "      <td>Fantasy</td>\n",
       "    </tr>\n",
       "    <tr>\n",
       "      <th>1</th>\n",
       "      <td>Escha &amp;amp; Logy no Atelier: Tasogare no Sora ...</td>\n",
       "      <td>Fantasy</td>\n",
       "    </tr>\n",
       "    <tr>\n",
       "      <th>2</th>\n",
       "      <td>Lance N&amp;#039; Masques</td>\n",
       "      <td>Fantasy</td>\n",
       "    </tr>\n",
       "    <tr>\n",
       "      <th>3</th>\n",
       "      <td>Fushigi na Elevator</td>\n",
       "      <td>Fantasy</td>\n",
       "    </tr>\n",
       "    <tr>\n",
       "      <th>4</th>\n",
       "      <td>Spectral Force Chronicle Divergence</td>\n",
       "      <td>Fantasy</td>\n",
       "    </tr>\n",
       "    <tr>\n",
       "      <th>5</th>\n",
       "      <td>Santa Company</td>\n",
       "      <td>Fantasy</td>\n",
       "    </tr>\n",
       "    <tr>\n",
       "      <th>6</th>\n",
       "      <td>Kudan</td>\n",
       "      <td>Fantasy</td>\n",
       "    </tr>\n",
       "    <tr>\n",
       "      <th>7</th>\n",
       "      <td>Hana to Shounen</td>\n",
       "      <td>Fantasy</td>\n",
       "    </tr>\n",
       "    <tr>\n",
       "      <th>8</th>\n",
       "      <td>Ukkari Pénélope OVA</td>\n",
       "      <td>Fantasy</td>\n",
       "    </tr>\n",
       "    <tr>\n",
       "      <th>9</th>\n",
       "      <td>on-chan, Yume Power Daibouken!</td>\n",
       "      <td>Fantasy</td>\n",
       "    </tr>\n",
       "  </tbody>\n",
       "</table>\n",
       "</div>"
      ],
      "text/plain": [
       "                                              titles    genre\n",
       "0                                  Shiawasette Naani  Fantasy\n",
       "1  Escha &amp; Logy no Atelier: Tasogare no Sora ...  Fantasy\n",
       "2                              Lance N&#039; Masques  Fantasy\n",
       "3                                Fushigi na Elevator  Fantasy\n",
       "4                Spectral Force Chronicle Divergence  Fantasy\n",
       "5                                      Santa Company  Fantasy\n",
       "6                                              Kudan  Fantasy\n",
       "7                                    Hana to Shounen  Fantasy\n",
       "8                                Ukkari Pénélope OVA  Fantasy\n",
       "9                     on-chan, Yume Power Daibouken!  Fantasy"
      ]
     },
     "execution_count": 45,
     "metadata": {},
     "output_type": "execute_result"
    }
   ],
   "source": [
    "titles = 'Wolf Daddy'\n",
    "animes_recommendations = animes_recommendations(titles)\n",
    "animes_recommendations"
   ]
  }
 ],
 "metadata": {
  "colab": {
   "provenance": []
  },
  "kernelspec": {
   "display_name": "Python 3 (ipykernel)",
   "language": "python",
   "name": "python3"
  },
  "language_info": {
   "codemirror_mode": {
    "name": "ipython",
    "version": 3
   },
   "file_extension": ".py",
   "mimetype": "text/x-python",
   "name": "python",
   "nbconvert_exporter": "python",
   "pygments_lexer": "ipython3",
   "version": "3.9.13"
  }
 },
 "nbformat": 4,
 "nbformat_minor": 1
}
